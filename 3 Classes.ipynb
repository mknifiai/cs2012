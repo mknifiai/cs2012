{
 "cells": [
  {
   "cell_type": "markdown",
   "id": "9a49eae5-78bc-4631-8a9a-fc75849a485c",
   "metadata": {},
   "source": [
    "## 1. Classes"
   ]
  },
  {
   "cell_type": "markdown",
   "id": "c01b267b-7019-42ad-9d1a-41ad0ed7b147",
   "metadata": {},
   "source": [
    "**object**\n",
    "\n",
    "In programming, an object is a grouping of data (variables) and operations that can be performed on that data (functions or methods)."
   ]
  },
  {
   "cell_type": "markdown",
   "id": "69ba077a-e381-4803-8a41-1c62c7b59807",
   "metadata": {},
   "source": [
    "**built-in**\n",
    "\n",
    "Python automatically creates built-in objects for a programmer to use and include the basic data types like integers and strings."
   ]
  },
  {
   "cell_type": "code",
   "execution_count": 2,
   "id": "6400bfd8-8d28-4f5a-b1d3-4bc7e44deea4",
   "metadata": {},
   "outputs": [
    {
     "data": {
      "text/plain": [
       "b'\\x05'"
      ]
     },
     "execution_count": 2,
     "metadata": {},
     "output_type": "execute_result"
    }
   ],
   "source": [
    "x = 5\n",
    "x.to_bytes()"
   ]
  },
  {
   "cell_type": "markdown",
   "id": "e5738771-32e7-4676-a6c4-0bb1b6e1db64",
   "metadata": {},
   "source": [
    "**class**\n",
    "\n",
    "The class keyword can be used to create a user-defined type of object containing groups of related variables and functions.\n",
    "\n",
    "**attributes**\n",
    "\n",
    "The object maintains a set of attributes that determines the data and behavior of the class."
   ]
  },
  {
   "cell_type": "code",
   "execution_count": 4,
   "id": "ebd449af-e823-4cd1-9654-424ecf09e633",
   "metadata": {},
   "outputs": [],
   "source": [
    "class Time:\n",
    "    \"\"\" A class that represents a time of day \"\"\"\n",
    "    def __init__(self):\n",
    "        self.hours = 0\n",
    "        self.minutes = 0"
   ]
  },
  {
   "cell_type": "markdown",
   "id": "adbdfc71-6d7a-4e16-82a9-cacc7454f250",
   "metadata": {},
   "source": [
    "**self** \n",
    "\n",
    "A method parameter that refers to the class instance."
   ]
  },
  {
   "cell_type": "markdown",
   "id": "da9f80e7-d4fc-4deb-8a44-55394ecdb168",
   "metadata": {},
   "source": [
    "**instantiation**\n",
    "\n",
    "An instantiation operation is performed by \"calling\" the class, using parentheses like a function call as in my_time = Time().\n",
    "\n",
    "**instance**\n",
    "\n",
    "An instantiation operation creates an instance, which is an individual object of the given class.\n",
    "\n",
    "**method**\n",
    "\n",
    "A method is a function defined within a class.\n"
   ]
  },
  {
   "cell_type": "markdown",
   "id": "cb0b3118-40d3-4f33-9a9a-cd0fc046995d",
   "metadata": {},
   "source": [
    "**\\_\\_init\\_\\_ / constructor**\n",
    "\n",
    "The __init__ method, commonly known as a constructor, is responsible for setting up the initial state of the new instance."
   ]
  },
  {
   "cell_type": "markdown",
   "id": "7b30f76a-db94-4b16-9cc8-1f7c3b951e41",
   "metadata": {},
   "source": [
    "**attribute reference operator / member operator / dot notation**\n",
    "\n",
    "Attributes can be accessed using the attribute reference operator \".\" (sometimes called the member operator or dot notation)."
   ]
  },
  {
   "cell_type": "markdown",
   "id": "82b03b0f-cf8a-4e3c-97a5-e06cfeada982",
   "metadata": {},
   "source": [
    "#### Multiple instances of a class"
   ]
  },
  {
   "cell_type": "code",
   "execution_count": 11,
   "id": "2b5e2d9d-8b11-4458-803c-0457ab82da59",
   "metadata": {},
   "outputs": [
    {
     "name": "stdout",
     "output_type": "stream",
     "text": [
      "7 hours and 30 minutes\n",
      "12 hours and 45 minutes\n"
     ]
    }
   ],
   "source": [
    "class Time:\n",
    "    \"\"\" A class that represents a time of day \"\"\"\n",
    "    def __init__(self):\n",
    "        self.hours = 0\n",
    "        self.minutes = 0\n",
    "\n",
    "\n",
    "time1 = Time()  # Create an instance of the Time class called time1\n",
    "time1.hours = 7\n",
    "time1.minutes = 30\n",
    "\n",
    "time2 = Time()  # Create a second instance called time2\n",
    "time2.hours = 12\n",
    "time2.minutes = 45\n",
    "\n",
    "print(f'{time1.hours} hours and {time1.minutes} minutes')\n",
    "print(f'{time2.hours} hours and {time2.minutes} minutes')"
   ]
  },
  {
   "cell_type": "markdown",
   "id": "a44a2ea0-a50d-4d26-96b0-f85862aa8039",
   "metadata": {},
   "source": [
    "## 2. Instance methods"
   ]
  },
  {
   "cell_type": "markdown",
   "id": "08d89f74-584d-4d73-8007-1ecc15c13a8f",
   "metadata": {},
   "source": [
    "**instance method**\n",
    "  \n",
    "A function defined within a class is known as an instance method."
   ]
  },
  {
   "cell_type": "code",
   "execution_count": 7,
   "id": "e8746687-be92-46ff-81ba-9ffe4536c1ac",
   "metadata": {},
   "outputs": [
    {
     "name": "stdout",
     "output_type": "stream",
     "text": [
      "Hours: 7 Minutes: 15\n"
     ]
    }
   ],
   "source": [
    "class Time:\n",
    "    def __init__(self):\n",
    "        self.hours = 0\n",
    "        self.minutes = 0\n",
    "\n",
    "    def print_time(self):\n",
    "        print(f'Hours: {self.hours}', end=' ')\n",
    "        print(f'Minutes: {self.minutes}')\n",
    "\n",
    "\n",
    "time1 = Time()\n",
    "time1.hours = 7\n",
    "time1.minutes = 15\n",
    "time1.print_time()"
   ]
  },
  {
   "cell_type": "markdown",
   "id": "643857b9-5977-416a-8bc3-033a97065449",
   "metadata": {},
   "source": [
    "## 3. Class and instance object types"
   ]
  },
  {
   "cell_type": "markdown",
   "id": "1550e2b4-54ad-4f1b-b05d-c011d035020f",
   "metadata": {},
   "source": [
    "**class object**\n",
    "\n",
    "A class object acts as a factory that creates instance objects."
   ]
  },
  {
   "cell_type": "markdown",
   "id": "04fff7d5-9e14-45d3-9736-20307d53dc36",
   "metadata": {},
   "source": [
    "**class attribute**\n",
    "  \n",
    "A class attribute is shared among all instances of that class."
   ]
  },
  {
   "cell_type": "markdown",
   "id": "de66fb2b-9d8c-4b20-b611-f3155de5014f",
   "metadata": {},
   "source": [
    "    - A class attribute is shared between all instances of that class."
   ]
  },
  {
   "cell_type": "code",
   "execution_count": null,
   "id": "ebb3ec5e-293b-4251-a704-69b6ae87e252",
   "metadata": {},
   "outputs": [],
   "source": [
    "class MarathonRunner:\n",
    "    race_distance = 42.195  # Marathon distance in kilometers\n",
    "\n",
    "    def __init__(self):\n",
    "        # ...\n",
    "\n",
    "    def get_speed(self):\n",
    "        # ...\n",
    "\n",
    "runner1 = MarathonRunner()\n",
    "runner2 = MarathonRunner()\n",
    "\n",
    "print(MarathonRunner.race_distance)  # Look in class namespace\n",
    "print(runner1.race_distance)  # Look in instance namespace\n",
    "print(runner2.race_distance)"
   ]
  },
  {
   "cell_type": "markdown",
   "id": "4d5d732c-4dc9-4cd1-bf1e-4075d86bade7",
   "metadata": {},
   "source": [
    "**instance attribute**\n",
    "\n",
    "An instance attribute can be unique to each instance."
   ]
  },
  {
   "cell_type": "markdown",
   "id": "21f63d03-e65d-421a-9c65-8b2cfbd907c7",
   "metadata": {},
   "source": [
    "    - An instance attribute can be different between instances of a class."
   ]
  },
  {
   "cell_type": "code",
   "execution_count": 7,
   "id": "9d858f87-76aa-44d4-8c6d-c50719d5aee8",
   "metadata": {},
   "outputs": [
    {
     "name": "stdout",
     "output_type": "stream",
     "text": [
      "Runner 1 speed: 7.5\n",
      "Runner 2 speed: 8.0\n",
      "Runner 2 race_distance: 42.195\n"
     ]
    }
   ],
   "source": [
    "class MarathonRunner:\n",
    "    race_distance = 42.195  # Marathon distance in kilometers\n",
    "\n",
    "    def __init__(self):\n",
    "        self.speed = 0\n",
    "        \n",
    "\n",
    "    def get_speed(self):\n",
    "        pass\n",
    "\n",
    "runner1 = MarathonRunner()\n",
    "runner1.speed = 7.5\n",
    "\n",
    "runner2 = MarathonRunner()\n",
    "runner2.speed = 8.0\n",
    "\n",
    "#runner1.race_distance = 10\n",
    "\n",
    "print(f'Runner 1 speed: {runner1.speed}')\n",
    "print(f'Runner 2 speed: {runner2.speed}')"
   ]
  },
  {
   "cell_type": "markdown",
   "id": "f4402264-88e7-434c-a90b-639827376728",
   "metadata": {},
   "source": [
    "### 4. Class customization"
   ]
  },
  {
   "cell_type": "markdown",
   "id": "de9a6088-5da5-43c9-8604-18fa7ad07acf",
   "metadata": {},
   "source": [
    "Class customization is the process of defining how a class should behave for some common operations. Such operations might include printing, accessing attributes, or how instances of that class are compared to each other"
   ]
  },
  {
   "cell_type": "code",
   "execution_count": 12,
   "id": "c5b1aead-2f27-4f0e-a90f-5f8529fc21ce",
   "metadata": {},
   "outputs": [
    {
     "name": "stdout",
     "output_type": "stream",
     "text": [
      "<__main__.Toy object at 0x10f567fe0>\n"
     ]
    }
   ],
   "source": [
    "## Normal printing\n",
    "\n",
    "class Toy:\n",
    "    def __init__(self, name, price, min_age):\n",
    "        self.name = name\n",
    "        self.price = price\n",
    "        self.min_age = min_age\n",
    "\n",
    "\n",
    "truck = Toy('Monster Truck XX', 14.99, 5)\n",
    "print(truck)"
   ]
  },
  {
   "cell_type": "code",
   "execution_count": 13,
   "id": "58ec08ab-9da6-422b-8f74-53b18dc42060",
   "metadata": {},
   "outputs": [
    {
     "name": "stdout",
     "output_type": "stream",
     "text": [
      "Monster Truck XX costs only $14.99. Not for children under 5!\n"
     ]
    }
   ],
   "source": [
    "## Customized printing\n",
    "class Toy:\n",
    "    def __init__(self, name, price, min_age):\n",
    "        self.name = name\n",
    "        self.price = price\n",
    "        self.min_age = min_age\n",
    "\n",
    "    def __str__(self):\n",
    "        return (f'{self.name} costs only ${self.price:.2f}. Not for children under {self.min_age}!')\n",
    "\n",
    "truck = Toy('Monster Truck XX', 14.99, 5)\n",
    "print(truck)\n"
   ]
  },
  {
   "cell_type": "markdown",
   "id": "cc73c7aa-5cd6-483e-9001-9370785e808b",
   "metadata": {},
   "source": [
    "\\_\\_str\\_\\_() generates a custom message using some instance attributes."
   ]
  },
  {
   "cell_type": "markdown",
   "id": "86535b8c-388d-46ff-b94f-95f692765bd3",
   "metadata": {},
   "source": [
    "#### Operator overloading: Classes as numeric types"
   ]
  },
  {
   "cell_type": "code",
   "execution_count": 21,
   "id": "37316a95-ad46-4935-a9d3-8a4df2c74597",
   "metadata": {},
   "outputs": [
    {
     "name": "stdin",
     "output_type": "stream",
     "text": [
      "Enter time1 (hours:minutes):  6:8\n",
      "Enter time2 (hours:minutes):  4:5\n"
     ]
    },
    {
     "name": "stdout",
     "output_type": "stream",
     "text": [
      "Time difference: 02:03\n"
     ]
    }
   ],
   "source": [
    "class Time24:\n",
    "    def __init__(self, hours, minutes):\n",
    "        self.hours = hours\n",
    "        self.minutes = minutes\n",
    "\n",
    "    def __str__(self):\n",
    "        return f'{self.hours:02d}:{self.minutes:02d}'\n",
    "\n",
    "    def __gt__(self, other): \n",
    "        if self.hours > other.hours: \n",
    "            return True \n",
    "        else: \n",
    "            if self.hours == other.hours: \n",
    "                if self.minutes > other.minutes: \n",
    "                    return True \n",
    "        return False\n",
    "\n",
    "    def __sub__(self, other):\n",
    "        \"\"\" Calculate absolute distance between two times \"\"\"\n",
    "      \n",
    "        if self > other:\n",
    "            larger = self\n",
    "            smaller = other\n",
    "        else:\n",
    "            larger = other\n",
    "            smaller = self\n",
    "\n",
    "        hrs = larger.hours - smaller.hours\n",
    "        mins = larger.minutes - smaller.minutes\n",
    "        if mins < 0:\n",
    "            mins += 60\n",
    "            hrs -=1\n",
    "\n",
    "        # Check if times wrap to new day\n",
    "        if hrs > 12:\n",
    "            hrs = 24 - (hrs + 1)\n",
    "            mins = 60 - mins\n",
    "\n",
    "        # Return new Time24 instance \n",
    "        return Time24(hrs, mins)\n",
    "\n",
    "t1 = input('Enter time1 (hours:minutes): ')\n",
    "tokens = t1.split(':')\n",
    "time1 = Time24(int(tokens[0]), int(tokens[1]))\n",
    "\n",
    "t2 = input('Enter time2 (hours:minutes): ')\n",
    "tokens = t2.split(':')\n",
    "time2 = Time24(int(tokens[0]), int(tokens[1]))\n",
    "\n",
    "print(f'Time difference: {time1 - time2}')"
   ]
  },
  {
   "cell_type": "markdown",
   "id": "ca19b9fa-b11d-483b-81a9-277638a99a05",
   "metadata": {},
   "source": [
    "#### Exercise"
   ]
  },
  {
   "cell_type": "code",
   "execution_count": 1,
   "id": "1c017503-3b61-42e3-a8f7-f92a0ca3037a",
   "metadata": {},
   "outputs": [
    {
     "name": "stdout",
     "output_type": "stream",
     "text": [
      "Greenwich Mean Time (GMT):\n",
      "Time -- 10:15\n",
      "Time -- 12:45\n",
      "\n",
      "Pacific Standard Time (PST):\n",
      "Time -- 2:15\n",
      "Time -- 4:45\n"
     ]
    }
   ],
   "source": [
    "class Time:\n",
    "    gmt_offset = 0  # Class attribute. Changing alters print_time output\n",
    "    \n",
    "    def __init__(self):  # Methods are a class attribute too\n",
    "        self.hours = 0  # Instance attribute\n",
    "        self.minutes = 0  # Instance attribute\n",
    "\n",
    "    def print_time(self):  # Methods are a class attribute too\n",
    "        offset_hours = self.hours + self.gmt_offset  # Local variable\n",
    "        \n",
    "        print(f'Time -- {offset_hours}:{self.minutes}')\n",
    "\n",
    "time1 = Time()\n",
    "time1.hours = 10\n",
    "time1.minutes = 15\n",
    "\n",
    "time2 = Time()\n",
    "time2.hours = 12\n",
    "time2.minutes = 45\n",
    "\n",
    "print ('Greenwich Mean Time (GMT):')\n",
    "time1.print_time()\n",
    "time2.print_time()\n",
    "\n",
    "Time.gmt_offset = -8  # Change to PST time (-8 GMT)\n",
    "\n",
    "print('\\nPacific Standard Time (PST):')\n",
    "time1.print_time()\n",
    "time2.print_time()"
   ]
  },
  {
   "cell_type": "code",
   "execution_count": null,
   "id": "49b3026c-9366-40b3-acb7-b764d2c7e781",
   "metadata": {},
   "outputs": [],
   "source": []
  }
 ],
 "metadata": {
  "kernelspec": {
   "display_name": "Python 3 (ipykernel)",
   "language": "python",
   "name": "python3"
  },
  "language_info": {
   "codemirror_mode": {
    "name": "ipython",
    "version": 3
   },
   "file_extension": ".py",
   "mimetype": "text/x-python",
   "name": "python",
   "nbconvert_exporter": "python",
   "pygments_lexer": "ipython3",
   "version": "3.12.1"
  }
 },
 "nbformat": 4,
 "nbformat_minor": 5
}
