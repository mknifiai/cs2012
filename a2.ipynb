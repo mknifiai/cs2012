{
 "cells": [
  {
   "cell_type": "markdown",
   "id": "76a111a5-d1c7-412f-8020-9b8af4a5ff5d",
   "metadata": {},
   "source": [
    "### Course information"
   ]
  },
  {
   "cell_type": "markdown",
   "id": "cd1a0c8f-75e5-4ceb-9cc2-14feebf56773",
   "metadata": {},
   "source": [
    "Define a Course base class with the following attributes:\n",
    "\n",
    "    - number - course number\n",
    "    - title - course title\n",
    "    - Define a print_info() method in Course that displays the course number and title.\n",
    "\n",
    "Also define a derived class OfferedCourse with the additional attributes:\n",
    "\n",
    "    - instructor_name - instructor name\n",
    "    - location - class location\n",
    "    - class_time - class time\n"
   ]
  },
  {
   "cell_type": "code",
   "execution_count": null,
   "id": "f1dbda1a-7a81-453d-a2d2-d178ebd49c59",
   "metadata": {},
   "outputs": [],
   "source": [
    "Ex: If the input is:\n",
    "\n",
    "ECE287\n",
    "Digital Systems Design\n",
    "ECE387\n",
    "Embedded Systems Design\n",
    "Mark Patterson\n",
    "Wilson Hall 231\n",
    "WF: 2-3:30 pm\n"
   ]
  },
  {
   "cell_type": "code",
   "execution_count": null,
   "id": "0ab43ed6-14ff-4327-9226-bb8235de4e13",
   "metadata": {},
   "outputs": [],
   "source": [
    "the output is:\n",
    "\n",
    "Course Information:\n",
    "   Course Number: ECE287\n",
    "   Course Title: Digital Systems Design\n",
    "Course Information:\n",
    "   Course Number: ECE387\n",
    "   Course Title: Embedded Systems Design\n",
    "   Instructor Name: Mark Patterson\n",
    "   Location: Wilson Hall 231\n",
    "   Class Time: WF: 2-3:30 pm"
   ]
  },
  {
   "cell_type": "code",
   "execution_count": null,
   "id": "6c29df5a-65f4-4940-b99a-6e9a51b383d8",
   "metadata": {},
   "outputs": [],
   "source": [
    "class Course:\n",
    "    # TODO: Define constructor with attributes\n",
    "\n",
    "    # TODO: Define print_info()\n",
    "\n",
    "\n",
    "class OfferedCourse(Course):\n",
    "    # TODO: Define constructor with attributes\n",
    "        \n",
    "\n",
    "if __name__ == \"__main__\":\n",
    "    course_number = input()\n",
    "    course_title = input()\n",
    "\n",
    "    o_course_number =  input()\n",
    "    o_course_title =  input()\n",
    "    instructor_name = input()\n",
    "    location = input()\n",
    "    class_time = input()\n",
    "    \n",
    "    my_course = Course(course_number, course_title)\n",
    "    my_course.print_info()\n",
    "    \n",
    "    my_offered_course = OfferedCourse(o_course_number, o_course_title, instructor_name, location, class_time)\n",
    "    my_offered_course.print_info()\n",
    "\n",
    "    print(f'   Instructor Name: { my_offered_course.instructor_name }')\n",
    "    print(f'   Location: { my_offered_course.location }')\n",
    "    print(f'   Class Time: { my_offered_course.class_time }')"
   ]
  }
 ],
 "metadata": {
  "kernelspec": {
   "display_name": "Python 3 (ipykernel)",
   "language": "python",
   "name": "python3"
  },
  "language_info": {
   "codemirror_mode": {
    "name": "ipython",
    "version": 3
   },
   "file_extension": ".py",
   "mimetype": "text/x-python",
   "name": "python",
   "nbconvert_exporter": "python",
   "pygments_lexer": "ipython3",
   "version": "3.12.1"
  }
 },
 "nbformat": 4,
 "nbformat_minor": 5
}
