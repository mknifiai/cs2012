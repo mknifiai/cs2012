{
 "cells": [
  {
   "cell_type": "markdown",
   "id": "fa1c83bb-249d-4224-a3ae-19e361612d9f",
   "metadata": {},
   "source": [
    "## 1. Searching and algorithms"
   ]
  },
  {
   "cell_type": "markdown",
   "id": "d415017a-2df9-435a-91ae-2634d0eb6c4c",
   "metadata": {},
   "source": [
    "**algorithm**\n",
    "\n",
    "An algorithm is a sequence of steps for accomplishing a task.\n",
    "\n",
    "### Linear search\n",
    "\n",
    "Linear search is a search algorithm that starts from the beginning of a list, and checks each element until the search key is found or the end of the list is reached."
   ]
  },
  {
   "cell_type": "code",
   "execution_count": 2,
   "id": "1cf7236d-f015-4f23-afcc-5cb53a722f51",
   "metadata": {},
   "outputs": [],
   "source": [
    "def linear_search(numbers, key):\n",
    "    for i in range(len(numbers)):\n",
    "        if numbers[i] == key:\n",
    "            return i\n",
    "    return -1   # not found"
   ]
  },
  {
   "cell_type": "code",
   "execution_count": 3,
   "id": "443c7232-7308-4b5c-acb5-3ad09697d2e9",
   "metadata": {},
   "outputs": [
    {
     "name": "stdout",
     "output_type": "stream",
     "text": [
      "NUMBERS: 2 4 7 10 11 32 45 87 \n"
     ]
    },
    {
     "name": "stdin",
     "output_type": "stream",
     "text": [
      "Enter a value:  10\n"
     ]
    },
    {
     "name": "stdout",
     "output_type": "stream",
     "text": [
      "Found 10 at index 3.\n"
     ]
    }
   ],
   "source": [
    "numbers = [2, 4, 7, 10, 11, 32, 45, 87]\n",
    "print('NUMBERS:', end=' ')\n",
    "for num in numbers:\n",
    "    print(num, end=' ')\n",
    "print()\n",
    "\n",
    "key = int(input('Enter a value: '))\n",
    "key_index = linear_search(numbers, key)\n",
    "\n",
    "if key_index == -1:\n",
    "    print(f'{key} was not found.')\n",
    "else:\n",
    "    print(f'Found {key} at index {key_index}.')"
   ]
  },
  {
   "cell_type": "markdown",
   "id": "c053cb42-b72b-4657-9553-4f9ba8406808",
   "metadata": {},
   "source": [
    "**runtime**\n",
    "\n",
    "An algorithm's runtime is the time the algorithm takes to execute."
   ]
  },
  {
   "cell_type": "markdown",
   "id": "69785a0f-509f-4543-9ffb-e1fd18bcb68b",
   "metadata": {},
   "source": [
    "### Binary search"
   ]
  },
  {
   "cell_type": "markdown",
   "id": "fcdbd6c1-e4ed-4796-a5b9-17b05e252830",
   "metadata": {},
   "source": [
    "Binary search is a faster algorithm for searching a list if the list's elements are sorted and directly accessible."
   ]
  },
  {
   "cell_type": "markdown",
   "id": "fd26a500-8207-46de-99d2-15d82aa7abaf",
   "metadata": {},
   "source": [
    "**algorithm**\n",
    "\n",
    "- Search starts by checking the middle element.\n",
    "- If the search key is greater than the element, then only elements in the right sublist need to be searched.\n",
    "- Each iteration reduces the search space by half. The search continues until the key is found or the search space is empty."
   ]
  },
  {
   "cell_type": "code",
   "execution_count": 3,
   "id": "251a19ab-5a17-4f1b-9061-dd696ae9e540",
   "metadata": {},
   "outputs": [],
   "source": [
    "def binary_search(numbers, key):\n",
    "    low = 0\n",
    "    high = len(numbers) - 1\n",
    "\n",
    "    while high >= low:\n",
    "        mid = (high + low) // 2\n",
    "        if numbers[mid] < key:\n",
    "            low = mid + 1\n",
    "        elif numbers[mid] > key:\n",
    "            high = mid - 1\n",
    "        else:\n",
    "            return mid\n",
    "    return -1 # not found"
   ]
  },
  {
   "cell_type": "code",
   "execution_count": 4,
   "id": "cc4f4f84-3c6d-41e5-a4ef-958bca97e4c4",
   "metadata": {},
   "outputs": [
    {
     "name": "stdout",
     "output_type": "stream",
     "text": [
      "NUMBERS: 2 4 7 10 11 32 45 87 \n"
     ]
    },
    {
     "name": "stdin",
     "output_type": "stream",
     "text": [
      "Enter a value:  32\n"
     ]
    },
    {
     "name": "stdout",
     "output_type": "stream",
     "text": [
      "Found 32 at index 5.\n"
     ]
    }
   ],
   "source": [
    "numbers = [2, 4, 7, 10, 11, 32, 45, 87]\n",
    "print('NUMBERS:', end=' ')\n",
    "for num in numbers:\n",
    "    print(num, end=' ')\n",
    "print()\n",
    " \n",
    "key = int(input('Enter a value: '))\n",
    "key_index = binary_search(numbers, key)\n",
    "\n",
    "if key_index == -1:\n",
    "    print(f'{key} was not found.')\n",
    "else:\n",
    "    print(f'Found {key} at index {key_index}.')"
   ]
  },
  {
   "cell_type": "markdown",
   "id": "19dc8253-092c-4913-8939-622e226bfd90",
   "metadata": {},
   "source": [
    "#### Big $O$ notation\n",
    "\n",
    "**Big $O$ notation** is a mathematical way of describing how a function (running time, or runtime, of an algorithm) behaves in relation to the input size."
   ]
  },
  {
   "cell_type": "markdown",
   "id": "b0531192-3947-4ab9-a852-67cb6cbe3dd2",
   "metadata": {},
   "source": [
    "- Linear search has linear $O(N)$ runtime complexity\n",
    "- binary search has Logarithmic $O(log_{2} N)$ runtime complexity "
   ]
  },
  {
   "cell_type": "markdown",
   "id": "05441bc5-fb5e-419c-b14c-908e20a1267c",
   "metadata": {},
   "source": [
    "## 2. Sorting\n",
    "**Sorting** is the process of converting a list of elements into ascending (or descending) order."
   ]
  },
  {
   "cell_type": "markdown",
   "id": "9aedffdb-965c-4142-a211-dd5f6ee985a5",
   "metadata": {},
   "source": [
    "### Selection sort\n",
    "\n",
    "Selection sort is a sorting algorithm that treats the input as two parts, sorted and unsorted, and repeatedly selects the proper next value to move from the unsorted part to the end of the sorted part.\n",
    "\n",
    "- the Selection sort's runtime is $O(N^{2})$"
   ]
  },
  {
   "cell_type": "code",
   "execution_count": 35,
   "id": "4cb1d2a1-a80e-479c-a5c1-a06cac3848ae",
   "metadata": {},
   "outputs": [],
   "source": [
    "def selection_sort(numbers):\n",
    "    for i in range(len(numbers) - 1):\n",
    "        # Find index of smallest remaining element\n",
    "        index_smallest = i\n",
    "        for j in range(i + 1, len(numbers)):\n",
    "            if numbers[j] < numbers[index_smallest]:\n",
    "                index_smallest = j\n",
    "    \n",
    "        # Swap numbers[i] and numbers[index_smallest]\n",
    "        temp = numbers[i]\n",
    "        numbers[i] = numbers[index_smallest]\n",
    "        numbers[index_smallest] = temp\n",
    "\n",
    "        print(f'{i=} {j=}: {numbers}')\n",
    "        print()"
   ]
  },
  {
   "cell_type": "code",
   "execution_count": 39,
   "id": "3a80e5d2-a4e5-4de6-b227-a2f4833ed2ec",
   "metadata": {},
   "outputs": [
    {
     "name": "stdout",
     "output_type": "stream",
     "text": [
      "UNSORTED: 32 6 15 3 20 \n",
      "i=0 j=4: [3, 6, 15, 32, 20]\n",
      "\n",
      "i=1 j=4: [3, 6, 15, 32, 20]\n",
      "\n",
      "i=2 j=4: [3, 6, 15, 32, 20]\n",
      "\n",
      "i=3 j=4: [3, 6, 15, 20, 32]\n",
      "\n",
      "SORTED: 3 6 15 20 32 \n"
     ]
    }
   ],
   "source": [
    "numbers = [32, 6, 15, 3,20]\n",
    "print('UNSORTED:', end=' ')\n",
    "for num in numbers:\n",
    "    print(num, end=' ')\n",
    "print()\n",
    "\n",
    "selection_sort(numbers)\n",
    "print('SORTED:', end=' ')\n",
    "for num in numbers:\n",
    "    print(num, end=' ')\n",
    "print()"
   ]
  },
  {
   "cell_type": "markdown",
   "id": "b49a0479-f506-4ba3-9779-675257a120b1",
   "metadata": {},
   "source": [
    "### Insertion sort\n",
    "\n",
    "**Insertion sort** is a sorting algorithm that treats the input as two parts, sorted and unsorted, and repeatedly inserts the next value from the unsorted part into the correct location in the sorted part.\n",
    "\n",
    "- the insertion sort's runtime is $O(N^{2})$\n",
    "- For nearly sorted inputs, the insertion sort's runtime is $O(N)$."
   ]
  },
  {
   "cell_type": "code",
   "execution_count": 31,
   "id": "9692418f-f80b-48aa-a4bf-b0231b73b544",
   "metadata": {},
   "outputs": [],
   "source": [
    "def insertion_sort(numbers):\n",
    "    for i in range(1, len(numbers)):\n",
    "        j = i\n",
    "        # Insert numbers[i] into sorted part \n",
    "        # stopping once numbers[i] in correct position\n",
    "        while j > 0 and numbers[j] < numbers[j - 1]:\n",
    "            # Swap numbers[j] and numbers[j - 1]\n",
    "            temp = numbers[j]\n",
    "            numbers[j] = numbers[j - 1]\n",
    "            numbers[j - 1] = temp\n",
    "            j = j - 1\n",
    "\n",
    "            print(f'{i=} {j=}: {numbers}')\n",
    "            print()"
   ]
  },
  {
   "cell_type": "code",
   "execution_count": 32,
   "id": "119cc580-453d-4236-bfe4-f5dd56374ef0",
   "metadata": {},
   "outputs": [
    {
     "name": "stdout",
     "output_type": "stream",
     "text": [
      "UNSORTED: 32 6 15 3 20 \n",
      "i=1 j=0: [6, 32, 15, 3, 20]\n",
      "\n",
      "i=2 j=1: [6, 15, 32, 3, 20]\n",
      "\n",
      "i=3 j=2: [6, 15, 3, 32, 20]\n",
      "\n",
      "i=3 j=1: [6, 3, 15, 32, 20]\n",
      "\n",
      "i=3 j=0: [3, 6, 15, 32, 20]\n",
      "\n",
      "i=4 j=3: [3, 6, 15, 20, 32]\n",
      "\n",
      "SORTED: 3 6 15 20 32 \n"
     ]
    }
   ],
   "source": [
    "numbers = [32,6,15,3,20]\n",
    "print('UNSORTED:', end=' ')\n",
    "for num in numbers:\n",
    "    print(num, end=' ')\n",
    "print()\n",
    " \n",
    "insertion_sort(numbers)\n",
    "print('SORTED:', end=' ')\n",
    "for num in numbers:\n",
    "    print(num, end=' ')\n",
    "print()"
   ]
  },
  {
   "cell_type": "markdown",
   "id": "39bd0b98-8ecf-4468-b33e-080ea196ab03",
   "metadata": {},
   "source": [
    "### Merge sort\n",
    "\n",
    "Merge sort is a sorting algorithm that divides a list into two halves, recursively sorts each half, and then merges the sorted halves to produce a sorted list.\n",
    "\n",
    "- the merge sort's runtime is $O(N $ $log N)$"
   ]
  },
  {
   "cell_type": "markdown",
   "id": "272b6ff3-61bd-47da-aab6-98ef91ee7c50",
   "metadata": {},
   "source": [
    "<img src=\"msort.png\" width=600 height=600 />"
   ]
  },
  {
   "cell_type": "code",
   "execution_count": null,
   "id": "ee0f5f89-0c95-40ec-a832-c68b98c04baa",
   "metadata": {},
   "outputs": [],
   "source": []
  }
 ],
 "metadata": {
  "kernelspec": {
   "display_name": "Python 3 (ipykernel)",
   "language": "python",
   "name": "python3"
  },
  "language_info": {
   "codemirror_mode": {
    "name": "ipython",
    "version": 3
   },
   "file_extension": ".py",
   "mimetype": "text/x-python",
   "name": "python",
   "nbconvert_exporter": "python",
   "pygments_lexer": "ipython3",
   "version": "3.12.1"
  }
 },
 "nbformat": 4,
 "nbformat_minor": 5
}
