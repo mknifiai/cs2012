{
 "cells": [
  {
   "cell_type": "markdown",
   "id": "4558f0bc-a6c5-45a3-a704-dc5fc6088010",
   "metadata": {},
   "source": [
    "### Triangle area comparison"
   ]
  },
  {
   "cell_type": "markdown",
   "id": "048b49df-400c-4087-8d88-6c8a420e3d80",
   "metadata": {},
   "source": [
    "Given class Triangle, complete the program to read and set the base and height of triangle1 and triangle2, determine which triangle's area is smaller, and output the smaller triangle's info, making use of Triangle's relevant methods."
   ]
  },
  {
   "cell_type": "code",
   "execution_count": null,
   "id": "0308cc84-98fe-4d17-9049-466dcb689537",
   "metadata": {},
   "outputs": [],
   "source": [
    "Ex: If the input is:\n",
    "\n",
    "3.0\n",
    "4.0\n",
    "4.0\n",
    "5.0"
   ]
  },
  {
   "cell_type": "markdown",
   "id": "8cf28a05-60b7-4722-90af-6e996febe7e5",
   "metadata": {},
   "source": [
    "where 3.0 is triangle1's base, 4.0 is triangle1's height, 4.0 is triangle2's base, and 5.0 is triangle2's height, the output is:"
   ]
  },
  {
   "cell_type": "code",
   "execution_count": null,
   "id": "684ac7c4-884c-4d19-8244-244a886c8b77",
   "metadata": {},
   "outputs": [],
   "source": [
    "Triangle with smaller area:\n",
    "Base: 3.00\n",
    "Height: 4.00\n",
    "Area: 6.00"
   ]
  },
  {
   "cell_type": "markdown",
   "id": "de7b2e59-7b52-4833-bc19-43d71c6beff4",
   "metadata": {},
   "source": [
    "#### Complete the program below"
   ]
  },
  {
   "cell_type": "code",
   "execution_count": null,
   "id": "6df7c7f3-a8f4-4b17-af57-78e8d1c14b2d",
   "metadata": {},
   "outputs": [],
   "source": [
    "class Triangle:   \n",
    "    def __init__(self):\n",
    "        self.base = 0\n",
    "        self.height = 0\n",
    "\n",
    "    def set_base(self, user_base):\n",
    "        self.base = user_base\n",
    "\n",
    "    def set_height(self, user_height):\n",
    "        self.height = user_height\n",
    "   \n",
    "    def get_area(self):\n",
    "        area = 0.5 * self.base * self.height\n",
    "        return area\n",
    "   \n",
    "    def print_info(self):\n",
    "        print(f'Base: {self.base:.2f}')\n",
    "        print(f'Height: {self.height:.2f}')\n",
    "        print(f'Area: {self.get_area():.2f}')\n",
    "\n",
    "if __name__ == \"__main__\":\n",
    "    triangle1 = Triangle()\n",
    "    triangle2 = Triangle()\n",
    "\n",
    "    # TODO: Read and set base and height for triangle1 (use set_base() and set_height())\n",
    "      \n",
    "    # TODO: Read and set base and height for triangle2 (use set_base() and set_height())\n",
    "    \n",
    "      \n",
    "    print('Triangle with smaller area:')  \n",
    "    \n",
    "    # TODO: Determine smaller triangle (use get_area())\n",
    "    #       and output smaller triangle's info (use print_info())\n",
    "\n"
   ]
  }
 ],
 "metadata": {
  "kernelspec": {
   "display_name": "Python 3 (ipykernel)",
   "language": "python",
   "name": "python3"
  },
  "language_info": {
   "codemirror_mode": {
    "name": "ipython",
    "version": 3
   },
   "file_extension": ".py",
   "mimetype": "text/x-python",
   "name": "python",
   "nbconvert_exporter": "python",
   "pygments_lexer": "ipython3",
   "version": "3.12.1"
  }
 },
 "nbformat": 4,
 "nbformat_minor": 5
}
