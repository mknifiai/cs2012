{
 "cells": [
  {
   "cell_type": "markdown",
   "id": "0d85c5f8-7c25-440c-a737-38249480d889",
   "metadata": {},
   "source": [
    "## Numpy"
   ]
  },
  {
   "cell_type": "markdown",
   "id": "233ac1d8-631b-4918-a010-8929f5b85ffa",
   "metadata": {},
   "source": [
    "\n",
    "The NumPy package provides tools for mathematical computations in Python. \n",
    "\n",
    "Ex: NumPy includes functions to perform common linear algebra operations, fast fourier transforms, and statistics."
   ]
  },
  {
   "cell_type": "markdown",
   "id": "b3773fd2-c5c8-4ce7-8ee3-e8ac29c6cde0",
   "metadata": {},
   "source": [
    "**array**\n",
    "\n",
    "NumPy provides a multidimensional array object, conceptually similar to a list, consisting of an ordered set of elements of the same type."
   ]
  },
  {
   "cell_type": "code",
   "execution_count": 2,
   "id": "46570f01-f306-4405-86f2-eea2c4680b90",
   "metadata": {},
   "outputs": [
    {
     "name": "stdout",
     "output_type": "stream",
     "text": [
      "Concatenation of list1 and list2 = [15.5, 25.11, 19.0, 12.2, 1.3, 6.38]\n",
      "\n",
      "Sum of list1 and list2 = 27.7 26.41 25.38 \n",
      "\n",
      "Sum of array1 and array2 = [27.7  26.41 25.38]\n"
     ]
    }
   ],
   "source": [
    "\n",
    "## Summing arrays vs summing lists.\n",
    "\n",
    "import numpy as np\n",
    "\n",
    "list1 = [15.5, 25.11, 19.0]\n",
    "list2 = [12.2, 1.3, 6.38] \n",
    "\n",
    "# Create two 1-dimensional (1D) arrays\n",
    "# with the elements of the above lists\n",
    "array1 = np.array(list1)\n",
    "array2 = np.array(list2)\n",
    "\n",
    "# Concatenate two lists\n",
    "print('Concatenation of list1 and list2 =', end=' ')\n",
    "print(list1 + list2)\n",
    "print()\n",
    "\n",
    "# Sum two lists\n",
    "print('Sum of list1 and list2 =', end=' ')\n",
    "for i in range(len(list1)):\n",
    "    print(list1[i] + list2[i], end=' ')  \n",
    "print('\\n')\n",
    "\n",
    "# Sum two 1D arrays\n",
    "print('Sum of array1 and array2 =', end=' ')\n",
    "print(array1 + array2)"
   ]
  },
  {
   "cell_type": "markdown",
   "id": "fe7c08f7-2ded-47d9-ae55-16b5f2b3603c",
   "metadata": {},
   "source": [
    "### ndarray\n",
    "\n",
    "The NumPy array data type is called ndarray, where \"nd\" stands for N-dimensional and N can be any number of dimensions.\n",
    "\n",
    "### shape\n",
    "The shape of an array is a tuple of the lengths of each of the array's dimensions.\n",
    "\n",
    "### size\n",
    "The size of an array is the total number of elements in an array."
   ]
  },
  {
   "cell_type": "code",
   "execution_count": 2,
   "id": "d75c8179-e0e0-421d-977a-7973cb03567c",
   "metadata": {},
   "outputs": [
    {
     "name": "stdout",
     "output_type": "stream",
     "text": [
      "my_array:\n",
      "[[ 1  2  3]\n",
      " [21 22 23]]\n",
      "my_array shape: (2, 3)\n",
      "my_array size: 6\n"
     ]
    }
   ],
   "source": [
    "import numpy as np\n",
    "# Create 2D array\n",
    "my_array = np.array([[1, 2, 3], [21, 22, 23]])\n",
    "\n",
    "print('my_array:')\n",
    "print(my_array)\n",
    "print(f'my_array shape: {my_array.shape}')\n",
    "print(f'my_array size: {my_array.size}')"
   ]
  },
  {
   "cell_type": "markdown",
   "id": "af16e2d1-cdaf-462f-9bdf-5338feec29f6",
   "metadata": {},
   "source": [
    "### axis\n",
    "\n",
    "A NumPy array axis is a direction along each array dimension."
   ]
  },
  {
   "cell_type": "markdown",
   "id": "49bbc57a-f41a-45cd-a8e2-178c5eef7544",
   "metadata": {},
   "source": [
    "### Array functions."
   ]
  },
  {
   "cell_type": "code",
   "execution_count": 3,
   "id": "26621146-3e1e-45a6-b942-6279e88f1133",
   "metadata": {},
   "outputs": [],
   "source": [
    "# Creates a 1D (1, 4) array based off of a list\n",
    "array1D = np.array([1, 2, 3, 4])\n",
    "\n",
    "# Creates a 2D (2, 2) array based off of 2 lists\n",
    "array2D = np.array([ [1, 2], [3, 4] ])"
   ]
  },
  {
   "cell_type": "code",
   "execution_count": 4,
   "id": "c4d2912f-b376-4a3d-b162-3b7555e87812",
   "metadata": {},
   "outputs": [],
   "source": [
    "# Creates a 2D (2, 2) array filled with 6s\n",
    "# [ [6, 6], [6, 6] ]\n",
    "array_6fill = np.full((2, 2), 6)"
   ]
  },
  {
   "cell_type": "code",
   "execution_count": 5,
   "id": "3915d1dd-c902-4198-9a33-79b43cec2366",
   "metadata": {},
   "outputs": [],
   "source": [
    "array2D = np.array([ [1, 2], [3, 4] ])\n",
    "\n",
    "# Returns 3: Element located at second row (index 1), first column (index 0)\n",
    "elem_1_0 = array2D[1, 0]"
   ]
  },
  {
   "cell_type": "code",
   "execution_count": 6,
   "id": "9e7c3257-e246-4921-9b11-895b19944b07",
   "metadata": {},
   "outputs": [],
   "source": [
    "array2D = np.array([ [1, 2], [3, 4] ])\n",
    "\n",
    "# Returns a new 1D (1x2) array with the second row (index 1, axis 0) ([3,4]) removed\n",
    "# [1, 2]\n",
    "new_a1D = np.delete(array2D, 1, axis=0)"
   ]
  },
  {
   "cell_type": "code",
   "execution_count": 7,
   "id": "a9fde02a-e452-4c8a-82ef-94c7c71532af",
   "metadata": {},
   "outputs": [],
   "source": [
    "my_array = np.array([2, 4, 1, 3])\n",
    "\n",
    "# Sorts a 1D array in place\n",
    "# [1, 2, 3, 4]\n",
    "my_array.sort(axis=0)"
   ]
  },
  {
   "cell_type": "code",
   "execution_count": 8,
   "id": "542b1844-7ff5-426c-9490-1026c9d2e12d",
   "metadata": {},
   "outputs": [],
   "source": [
    "array_7 = np.array([ [7, 7], [7, 7] ])\n",
    "\n",
    "# Returns a new flattened 1D (1, 4) version of a 2D (2, 2) array\n",
    "# [7, 7, 7, 7]\n",
    "array_7flat = array_7.ravel()"
   ]
  },
  {
   "cell_type": "code",
   "execution_count": 9,
   "id": "3a83b0db-b19a-4dfd-9b84-a196bbd282a5",
   "metadata": {},
   "outputs": [],
   "source": [
    "array1D = np.array([1, 2, 3, 4])\n",
    "\n",
    "# Returns a new reshaped 2D (2, 2) version of a 2D (1, 4) array\n",
    "# [ [1, 2], [3, 4] ]\n",
    "a_reshaped = array1D.reshape((2,2))"
   ]
  },
  {
   "cell_type": "code",
   "execution_count": 10,
   "id": "df8e2ee5-b531-493e-9887-ccd7bfa1f6da",
   "metadata": {},
   "outputs": [],
   "source": [
    "# Returns a new transposed version of a_reshaped\n",
    "# [[1, 3], [2, 4]]\n",
    "array1_transposed = a_reshaped.transpose()"
   ]
  },
  {
   "cell_type": "code",
   "execution_count": 17,
   "id": "3a4adc48-b664-4367-aa9d-c083980bc696",
   "metadata": {},
   "outputs": [
    {
     "name": "stdout",
     "output_type": "stream",
     "text": [
      "[[0 0 0]\n",
      " [0 0 0]]\n"
     ]
    }
   ],
   "source": [
    "# create a 2d array filled with zeros\n",
    "zar = np.zeros((2,3),dtype=np.int8)\n",
    "print(zar.view())"
   ]
  },
  {
   "cell_type": "code",
   "execution_count": 18,
   "id": "311b0ff1-db01-4c81-8aa4-257ce0ce6b8d",
   "metadata": {},
   "outputs": [
    {
     "name": "stdout",
     "output_type": "stream",
     "text": [
      "[[1. 1. 1.]\n",
      " [1. 1. 1.]]\n"
     ]
    }
   ],
   "source": [
    "# create a 2d array filled with ones\n",
    "oar = np.ones((2,3),dtype=np.float32)\n",
    "print(oar.view())"
   ]
  },
  {
   "cell_type": "code",
   "execution_count": 19,
   "id": "cadaefab-e026-4cfa-b10b-0834bad546c7",
   "metadata": {},
   "outputs": [],
   "source": [
    "nar = np.ones_like(zar)"
   ]
  },
  {
   "cell_type": "code",
   "execution_count": 20,
   "id": "69ec5855-29b1-40d2-ba10-f1d69a423f70",
   "metadata": {},
   "outputs": [
    {
     "data": {
      "text/plain": [
       "array([1, 3, 5, 7, 9])"
      ]
     },
     "execution_count": 20,
     "metadata": {},
     "output_type": "execute_result"
    }
   ],
   "source": [
    "np.arange(1,10,2)"
   ]
  },
  {
   "cell_type": "code",
   "execution_count": 24,
   "id": "3c348112-028e-4f82-91dc-0a47e5af3482",
   "metadata": {},
   "outputs": [
    {
     "name": "stdout",
     "output_type": "stream",
     "text": [
      "[[1 1 1 0 0 0]\n",
      " [1 1 1 0 0 0]]\n"
     ]
    }
   ],
   "source": [
    "car = np.concatenate((nar,zar),axis = 1)\n",
    "print(car)"
   ]
  },
  {
   "cell_type": "code",
   "execution_count": 25,
   "id": "620ae033-6f31-4066-a058-f861d1e923cf",
   "metadata": {},
   "outputs": [
    {
     "data": {
      "text/plain": [
       "array([[1., 1., 1., 0., 0., 0.],\n",
       "       [1., 1., 1., 0., 0., 0.]], dtype=float32)"
      ]
     },
     "execution_count": 25,
     "metadata": {},
     "output_type": "execute_result"
    }
   ],
   "source": [
    "car.astype(np.float32)"
   ]
  },
  {
   "cell_type": "code",
   "execution_count": 26,
   "id": "b632dfdf-a699-465b-ac78-f7915bc1c77f",
   "metadata": {},
   "outputs": [
    {
     "name": "stdout",
     "output_type": "stream",
     "text": [
      "Original 1D array: [1 2 3]\n",
      "Shape of 1D array: (3,)\n"
     ]
    }
   ],
   "source": [
    "arr_1d = np.array([1, 2, 3])\n",
    "print(\"Original 1D array:\", arr_1d)\n",
    "print(\"Shape of 1D array:\", arr_1d.shape)"
   ]
  },
  {
   "cell_type": "code",
   "execution_count": 27,
   "id": "cff00400-2dd2-4f8c-8d1e-50b04a643305",
   "metadata": {},
   "outputs": [
    {
     "name": "stdout",
     "output_type": "stream",
     "text": [
      "\n",
      "Column vector: [[1]\n",
      " [2]\n",
      " [3]]\n",
      "Shape of column vector: (3, 1)\n"
     ]
    }
   ],
   "source": [
    "arr_col_vec = arr_1d[:, np.newaxis]\n",
    "print(\"\\nColumn vector:\", arr_col_vec)\n",
    "print(\"Shape of column vector:\", arr_col_vec.shape)"
   ]
  },
  {
   "cell_type": "markdown",
   "id": "4bbbf18e-fc02-4472-89bf-15ca77f45cfa",
   "metadata": {},
   "source": [
    "### Math operators and functions."
   ]
  },
  {
   "cell_type": "markdown",
   "id": "41700828-03de-4f3b-9c09-0bb9edb61b7e",
   "metadata": {},
   "source": [
    "**array1 + array2**\tElement-wise addition\n",
    "\n",
    "**array1 - array2**\tElement-wise subtraction\n",
    "\n",
    "**array1 * array2**\tElement-wise multiplication\n",
    "\n",
    "**array1 / array2**\tElement-wise division\n",
    "\n",
    "**np.sqrt(array1)**\tSquare root of array elements\n",
    "\n",
    "**np.log(array1)**\tLogarithm of array elements\n",
    "\n",
    "**np.sin(array1)**\tSine of array elements\n",
    "\n",
    "**np.max(array1)**\tMaximum of array elements\n",
    "\n",
    "**np.median(array1)**\tMedian of array elements\n",
    "\n",
    "**np.std(array1)**\tStandard deviation of array elements\n",
    "\n",
    "**np.var(array1)**\tVariance of array elements\n",
    "\n",
    "**np.dot(array1, array2)**\tDot product of of array1 and array2\n",
    "\n",
    "**np.matmul(array1, array2)**\tAlso the dot product of array1 and array2 but with subtle differences from dot() when either array has dimension >= 3\n",
    "\n",
    "**np.cross(array1, array2)**\tCross product of array1 and array2"
   ]
  },
  {
   "cell_type": "code",
   "execution_count": 11,
   "id": "d398d642-6814-4f57-9675-cbe93a131c17",
   "metadata": {},
   "outputs": [
    {
     "name": "stdout",
     "output_type": "stream",
     "text": [
      "Adding arrays (array1 + array2)\n",
      "[11 22 33 44]\n",
      "\n",
      "Subtracting arrays (array1 - array2)\n",
      "[ 9 18 27 36]\n",
      "\n",
      "Multiplying arrays (array1 * array2)\n",
      "[ 10  40  90 160]\n",
      "\n",
      "Calculating dot product of arrays\n",
      "300\n",
      "\n",
      "Finding square root of each element in array1\n",
      "[3.16227766 4.47213595 5.47722558 6.32455532]\n",
      "\n",
      "Finding minimum element in array1\n",
      "10\n",
      "\n",
      "Finding maximum element in array1\n",
      "40\n"
     ]
    }
   ],
   "source": [
    "import numpy as np\n",
    "\n",
    "array1 = np.array([10, 20, 30, 40])\n",
    "array2 = np.array([1, 2, 3, 4])\n",
    "\n",
    "# Some common array operations\n",
    "\n",
    "print('Adding arrays (array1 + array2)')\n",
    "print(array1 + array2)\n",
    "\n",
    "print('\\nSubtracting arrays (array1 - array2)')\n",
    "print(array1 - array2)\n",
    "\n",
    "print('\\nMultiplying arrays (array1 * array2)')\n",
    "print(array1 * array2)\n",
    "\n",
    "print('\\nCalculating dot product of arrays')\n",
    "print(np.dot(array1, array2))\n",
    "\n",
    "print('\\nFinding square root of each element in array1')\n",
    "print(np.sqrt(array1))\n",
    "\n",
    "print('\\nFinding minimum element in array1')\n",
    "print(array1.min())\n",
    "\n",
    "print('\\nFinding maximum element in array1')\n",
    "print(array1.max())"
   ]
  },
  {
   "cell_type": "code",
   "execution_count": null,
   "id": "638bc730-025a-478d-82fa-e53d8ef1560c",
   "metadata": {},
   "outputs": [],
   "source": []
  }
 ],
 "metadata": {
  "kernelspec": {
   "display_name": "Python 3 (ipykernel)",
   "language": "python",
   "name": "python3"
  },
  "language_info": {
   "codemirror_mode": {
    "name": "ipython",
    "version": 3
   },
   "file_extension": ".py",
   "mimetype": "text/x-python",
   "name": "python",
   "nbconvert_exporter": "python",
   "pygments_lexer": "ipython3",
   "version": "3.12.1"
  }
 },
 "nbformat": 4,
 "nbformat_minor": 5
}
