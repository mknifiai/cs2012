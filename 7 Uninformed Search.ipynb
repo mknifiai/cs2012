{
 "cells": [
  {
   "cell_type": "markdown",
   "id": "8927386c-8d42-4b53-a8ab-fa840b3746b2",
   "metadata": {},
   "source": [
    "## Solvnig Problems by Searching"
   ]
  },
  {
   "cell_type": "markdown",
   "id": "673a3de6-3f99-464c-abd3-84bd4cc3b160",
   "metadata": {},
   "source": [
    "### 1. Search problems and solutions"
   ]
  },
  {
   "cell_type": "markdown",
   "id": "10a049c6-06b4-46f9-8a7c-5209c9225d50",
   "metadata": {},
   "source": [
    "A search problem can be defined formally as follows:\n",
    "- A **set of possible states** that the environment can be in. We call this the state space.\n",
    "- The **initial state** that the agent starts in\n",
    "- A set of one or more **goal states**.\n",
    "- The **actions** available to the agent, Given a state s, ACTIONS(s) returns a finite set of actions that can be executed in s\n",
    "- **A transition model**, which describes what each action does\n",
    "- An **action cost function**, which gives the numeric cost of applying action a in state s to reach state s'"
   ]
  },
  {
   "cell_type": "markdown",
   "id": "6d22dcd9-5d05-482d-85df-5bf44a084ecb",
   "metadata": {},
   "source": [
    "A sequence of actions forms a **path**, and **a solution** is a path from the initial state to a goal state.\n",
    "\n",
    "An **optimal solution** has the lowest path cost among all solutions.\n",
    "\n",
    "The state space can be represented as a **graph** in which the vertices are states and the directed edges between them are actions"
   ]
  },
  {
   "cell_type": "markdown",
   "id": "4164c304-556b-4b93-9aa6-0ffb29e0d97c",
   "metadata": {},
   "source": [
    "#### 1.2 Measuring problem-solving performance"
   ]
  },
  {
   "cell_type": "markdown",
   "id": "0f9180e5-0037-4bd0-abe1-4d915fa1e935",
   "metadata": {},
   "source": [
    "- **Completeness**: Is the algorithm guaranteed to find a solution when there is one, and to correctly report failure when there is not?\n",
    "- **Cost optimality**: Does it find a solution with the lowest path cost of all solutions?\n",
    "- **Time complexity**: How long does it take to find a solution? This can be measured in\n",
    "seconds, or more abstractly by the number of states and actions considered.\n",
    "- **Space complexity**: How much memory is needed to perform the search?"
   ]
  },
  {
   "cell_type": "markdown",
   "id": "45c4a441-9d26-4e7f-937d-e6dade4b24d9",
   "metadata": {},
   "source": [
    "#### 2 Uninformed Search Strategies\n",
    "\n",
    "An uninformed search algorithm is given no clue about how close a state is to the goal(s)."
   ]
  },
  {
   "cell_type": "markdown",
   "id": "1edddafd-658c-4511-9a3b-1f9fcc01a9bc",
   "metadata": {},
   "source": [
    "#### 2.1 Breadth-first search\n",
    "\n",
    "- When all actions have the same cost, an appropriate strategy is **breadth-first search**, in which the root node is expanded first, then all the successors of the root node are expanded next, then their successors, and so on.\n",
    "\n",
    "- Use **first-in-first-out queue**\n",
    "\n",
    "\n",
    "- Breadth-first search always finds a solution with a minimal number of actions.\n",
    "\n",
    "- Breadth-first search is complete\n",
    "\n",
    "<img src=\"bfs.png\" width=500 height=500 />"
   ]
  },
  {
   "cell_type": "markdown",
   "id": "ac1aebd7-e5e8-417b-9636-f88276001f0c",
   "metadata": {},
   "source": [
    "#### 2.2 Depth-first search"
   ]
  },
  {
   "cell_type": "markdown",
   "id": "34687d3b-db31-4597-8888-015ee808a4d9",
   "metadata": {},
   "source": [
    "- Depth-first search always expands the deepest node in the frontier first.\n",
    "\n",
    "  \n",
    "- We can implement it recursively, or iteratively with the help of a stack (LIFO) that stores at each step future nodes to be visited.\n",
    "\n",
    "- It is possible that the found solution is not optimal.\n",
    "\n",
    "\n",
    "<img src=\"dfs.png\" width=400 height=400 />"
   ]
  },
  {
   "cell_type": "markdown",
   "id": "b3190171-57ac-47fc-85fc-a9835968d8d7",
   "metadata": {},
   "source": [
    "<img src=\"comp_.png\" width=500 height=500 />"
   ]
  },
  {
   "cell_type": "markdown",
   "id": "367ede96-b67a-4a60-84b7-521c17624ca3",
   "metadata": {},
   "source": [
    "#### 2.3 Depth-limited and iterative deepening search\n",
    "\n",
    "- It is a version of depth-first search in which we supply a depth limit, $l$, and treat all nodes at depth $l$ as if they had no successors.\n",
    "\n",
    "- **Iterative deepening** search solves the problem of picking a good value for $l$ by trying all values: first 0, then 1, then 2, and so on—until either a solution is found, or the depth- limited search returns the failure value rather than the cutoff value.\n",
    "\n",
    "\n"
   ]
  },
  {
   "cell_type": "markdown",
   "id": "7fb24436-05f0-4840-b3c4-78a57f957ca8",
   "metadata": {},
   "source": [
    "<img src=\"dl.png\" width=500 height=500 />"
   ]
  },
  {
   "cell_type": "markdown",
   "id": "352640ff-df7e-4d4e-97f6-41632d02def1",
   "metadata": {},
   "source": [
    "### Searching a graph to find path from start to goal node?"
   ]
  },
  {
   "cell_type": "code",
   "execution_count": 24,
   "id": "241f90f7-0ba7-4365-9938-3dafb64f9080",
   "metadata": {},
   "outputs": [],
   "source": [
    "def successors_f(state): \n",
    "    successors = {'a':  ['b', 'c', 'd'],\n",
    "                  'b':  ['e', 'f', 'g'],\n",
    "                  'c':  ['a', 'h', 'i'],\n",
    "                  'd':  ['j', 'z'],\n",
    "                  'e':  ['a', 'k', 'l'],\n",
    "                  'g':  ['m'],\n",
    "                  'k':  ['z']}\n",
    "    return successors.get(state, [])"
   ]
  },
  {
   "cell_type": "code",
   "execution_count": 25,
   "id": "1897975c-9663-4e90-b665-71a5afe0102a",
   "metadata": {},
   "outputs": [
    {
     "data": {
      "text/plain": [
       "['b', 'c', 'd']"
      ]
     },
     "execution_count": 25,
     "metadata": {},
     "output_type": "execute_result"
    }
   ],
   "source": [
    "successors_f('a')"
   ]
  },
  {
   "cell_type": "markdown",
   "id": "68e0d1a0-b104-449a-a7fc-19f96b221b28",
   "metadata": {},
   "source": [
    "### Breadth and Depth search"
   ]
  },
  {
   "cell_type": "code",
   "execution_count": 69,
   "id": "4982e79e-f722-427d-a278-479c04c0d337",
   "metadata": {},
   "outputs": [],
   "source": [
    "def search(start_state, goal_state, successors_f, breadth_first):\n",
    "\n",
    "    expanded = {}\n",
    "    \n",
    "    unexpanded = [(start_state, None)]\n",
    "    \n",
    "    if start_state == goal_state:\n",
    "        return [start_state]\n",
    "    \n",
    "    while unexpanded:\n",
    "        current_pair = unexpanded.pop()\n",
    "        children_of_pair = successors_f(current_pair[0])\n",
    "        \n",
    "        \n",
    "        expanded.update({tuple(current_pair[0]) : current_pair[1]})\n",
    "       \n",
    "        children_of_pair = [child for child in children_of_pair if (tuple(child) not in expanded)]\n",
    "        ch = children_of_pair + []\n",
    "        for child in children_of_pair:\n",
    "            for u in unexpanded:\n",
    "                if u[0] == child or u[1] == child:\n",
    "                    ch.remove(child)\n",
    "                    break\n",
    "        \n",
    "        children_of_pair = ch\n",
    "        \n",
    "        \n",
    "        if goal_state in children_of_pair:\n",
    "            \n",
    "            solution_path = [current_pair[0], goal_state]\n",
    "            parent = current_pair[1]\n",
    "            \n",
    "            while parent != None:\n",
    "                \n",
    "                solution_path = [parent] + solution_path\n",
    "                \n",
    "                \n",
    "                parent = expanded.get(tuple(parent))\n",
    "            \n",
    "            return solution_path\n",
    "        \n",
    "        \n",
    "        children_of_pair.sort()\n",
    "        children_of_pair.reverse()\n",
    "        children_of_pair = [(child, current_pair[0]) for child in children_of_pair if True]\n",
    "        \n",
    "        \n",
    "        if breadth_first:\n",
    "            unexpanded = children_of_pair + unexpanded\n",
    "        else:\n",
    "            unexpanded = unexpanded + children_of_pair\n",
    "    \n",
    "    return 'Goal not found'"
   ]
  },
  {
   "cell_type": "code",
   "execution_count": 70,
   "id": "1403337c-4dd5-49f2-8cbc-5225006fac0e",
   "metadata": {},
   "outputs": [
    {
     "data": {
      "text/plain": [
       "['a', 'b', 'e']"
      ]
     },
     "execution_count": 70,
     "metadata": {},
     "output_type": "execute_result"
    }
   ],
   "source": [
    "search('a', 'e', successors_f,True)"
   ]
  },
  {
   "cell_type": "code",
   "execution_count": 71,
   "id": "3c191761-c49e-4556-aa5a-7cf96366634a",
   "metadata": {},
   "outputs": [
    {
     "name": "stdout",
     "output_type": "stream",
     "text": [
      "Path from a to a: ['a']\n",
      "Path from a to b: ['a', 'b']\n",
      "Path from a to c: ['a', 'c']\n",
      "Path from a to d: ['a', 'd']\n",
      "Path from a to e: ['a', 'b', 'e']\n",
      "Path from a to f: ['a', 'b', 'f']\n",
      "Path from a to g: ['a', 'b', 'g']\n",
      "Path from a to h: ['a', 'c', 'h']\n",
      "Path from a to i: ['a', 'c', 'i']\n",
      "Path from a to j: ['a', 'd', 'j']\n",
      "Path from a to k: ['a', 'b', 'e', 'k']\n",
      "Path from a to l: ['a', 'b', 'e', 'l']\n",
      "Path from a to m: ['a', 'b', 'g', 'm']\n",
      "Path from a to z: ['a', 'd', 'z']\n"
     ]
    }
   ],
   "source": [
    "for goal in ['a', 'b', 'c', 'd', 'e', 'f', 'g', 'h', 'i', 'j', 'k', 'l', 'm', 'z']:\n",
    "    path = search('a', goal, successors_f,True)\n",
    "    print(f'Path from a to {goal}: {path}')"
   ]
  },
  {
   "cell_type": "markdown",
   "id": "b48bc386-9c61-4074-89dd-77519f34a968",
   "metadata": {},
   "source": [
    "### Navigation Problem\n",
    "\n",
    "We'll try a navigation problem around a grid of size 10 x 10. Rows and columns will be indexed from 0 to 9."
   ]
  },
  {
   "cell_type": "code",
   "execution_count": 72,
   "id": "952acc71-2c2f-44d1-a7c3-5d0be881989c",
   "metadata": {},
   "outputs": [],
   "source": [
    "def grid_successors(state):\n",
    "    row, col = state\n",
    "    succs = []\n",
    "    for r in [-1, 0, 1]:   #check each row\n",
    "        for c in [-1, 0, 1]:  # check in each col\n",
    "            newr = row + r\n",
    "            newc = col + c\n",
    "            if 0 <= newr <= 9 and 0 <= newc <= 9:  \n",
    "                succs.append((newr, newc))\n",
    "    return succs"
   ]
  },
  {
   "cell_type": "code",
   "execution_count": 73,
   "id": "c5f2b35c-e1af-4803-af95-632ba8983100",
   "metadata": {},
   "outputs": [
    {
     "data": {
      "text/plain": [
       "[(2, 3), (2, 4), (2, 5), (3, 3), (3, 4), (3, 5), (4, 3), (4, 4), (4, 5)]"
      ]
     },
     "execution_count": 73,
     "metadata": {},
     "output_type": "execute_result"
    }
   ],
   "source": [
    "grid_successors([3,4])"
   ]
  },
  {
   "cell_type": "code",
   "execution_count": 74,
   "id": "5bc4910f-793e-420c-a1c8-cee3512955ec",
   "metadata": {},
   "outputs": [
    {
     "data": {
      "text/plain": [
       "[(0, 0), (0, 1), (1, 0), (1, 1)]"
      ]
     },
     "execution_count": 74,
     "metadata": {},
     "output_type": "execute_result"
    }
   ],
   "source": [
    "grid_successors([0,0])"
   ]
  },
  {
   "cell_type": "code",
   "execution_count": 75,
   "id": "c586392f-d50e-4437-8808-d96e9c5c2f25",
   "metadata": {},
   "outputs": [],
   "source": [
    "path_dfs = search((0, 0), (9, 9), grid_successors,False)"
   ]
  },
  {
   "cell_type": "code",
   "execution_count": 76,
   "id": "847ff40e-5508-4db3-b8fd-f8b57c3d3bab",
   "metadata": {},
   "outputs": [
    {
     "data": {
      "image/png": "[encoded data removed]",
      "text/plain": [
       "<Figure size 640x480 with 1 Axes>"
      ]
     },
     "metadata": {},
     "output_type": "display_data"
    }
   ],
   "source": [
    "import matplotlib.pyplot as plt\n",
    "\n",
    "rows = [location[0] for location in path_dfs]\n",
    "cols = [location[1] for location in path_dfs]\n",
    "plt.plot(rows, cols, 'o-');"
   ]
  },
  {
   "cell_type": "code",
   "execution_count": 77,
   "id": "44f46306-8ef2-4de6-9e1a-dec7e3a95870",
   "metadata": {},
   "outputs": [
    {
     "name": "stdout",
     "output_type": "stream",
     "text": [
      "[(0, 0), (1, 1), (2, 2), (3, 3), (4, 4), (5, 5), (6, 6), (7, 7), (8, 8), (9, 9)]\n"
     ]
    }
   ],
   "source": [
    "path_bfs = search((0, 0), (9, 9), grid_successors,True)\n",
    "print(path_bfs)"
   ]
  },
  {
   "cell_type": "code",
   "execution_count": 78,
   "id": "5e337371-6ce3-494a-90f1-40431f72b3cd",
   "metadata": {},
   "outputs": [
    {
     "data": {
      "image/png": "[encoded data removed]",
      "text/plain": [
       "<Figure size 640x480 with 1 Axes>"
      ]
     },
     "metadata": {},
     "output_type": "display_data"
    }
   ],
   "source": [
    "rows = [location[0] for location in path_bfs]\n",
    "cols = [location[1] for location in path_bfs]\n",
    "plt.plot(rows, cols, 'o-');"
   ]
  },
  {
   "cell_type": "code",
   "execution_count": null,
   "id": "d9f88ba2-15ca-4b11-9aa0-59c1fc6a18e8",
   "metadata": {},
   "outputs": [],
   "source": []
  }
 ],
 "metadata": {
  "kernelspec": {
   "display_name": "Python 3 (ipykernel)",
   "language": "python",
   "name": "python3"
  },
  "language_info": {
   "codemirror_mode": {
    "name": "ipython",
    "version": 3
   },
   "file_extension": ".py",
   "mimetype": "text/x-python",
   "name": "python",
   "nbconvert_exporter": "python",
   "pygments_lexer": "ipython3",
   "version": "3.12.1"
  }
 },
 "nbformat": 4,
 "nbformat_minor": 5
}
