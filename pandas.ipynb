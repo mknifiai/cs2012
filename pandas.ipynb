{
 "cells": [
  {
   "cell_type": "markdown",
   "id": "7e53eaf1-94bf-4a3e-a048-2bd09137442b",
   "metadata": {},
   "source": [
    "## pandas"
   ]
  },
  {
   "cell_type": "markdown",
   "id": "d0c18f1a-f191-498b-86cd-3f64397670d2",
   "metadata": {},
   "source": [
    "**pandas**\n",
    "\n",
    "Pandas is a Python package that stores and manipulates 2-dimensional datasets.\n",
    "\n",
    "**dataframe / DataFrame**\n",
    "\n",
    "Pandas represents datasets with a dataframe object, of data type DataFrame, which consists of rows and columns.\n",
    "\n",
    "**index / columns**\n",
    "\n",
    "A dataframe's row labels are known as the index and column labels are known as the columns."
   ]
  },
  {
   "cell_type": "markdown",
   "id": "381c16ce-b531-46aa-8c51-f005d3a4165d",
   "metadata": {},
   "source": [
    "### Dataframe shape attribute."
   ]
  },
  {
   "cell_type": "code",
   "execution_count": 2,
   "id": "56dd0524-726d-42dd-9785-6eb9db1b58a4",
   "metadata": {},
   "outputs": [
    {
     "name": "stdout",
     "output_type": "stream",
     "text": [
      "  Label1  Label2  Label3  Label4\n",
      "0    abc    3.30      28    True\n",
      "1    xyz   -0.55       0   False\n",
      "\n",
      "sample_df shape: (2, 4)\n"
     ]
    }
   ],
   "source": [
    "# Load the pandas and numpy packages\n",
    "import pandas as pd\n",
    "import numpy as np\n",
    "\n",
    "# Create a dataframe with pandas DataFrame() constructor\n",
    "sample_df = pd.DataFrame(\n",
    "   data=[ ['abc', 3.3, 28, True],\n",
    "          ['xyz', -.55, 0, False] ], \n",
    "   columns=['Label1', 'Label2', 'Label3', 'Label4'],\n",
    "   index=[0, 1] )\n",
    "\n",
    "# Output the dataframe\n",
    "print(sample_df)\n",
    "\n",
    "# Output the dataframe's shape\n",
    "print(f'\\nsample_df shape: {sample_df.shape}')\n"
   ]
  },
  {
   "cell_type": "markdown",
   "id": "5cbc69b8-7120-4841-b9ae-6802868e15ae",
   "metadata": {},
   "source": [
    "### Subsetting data\n",
    "\n",
    "Subsetting data involves choosing specific rows and columns from a dataframe according to labels, indices, and slices (a range between 2 indices)"
   ]
  },
  {
   "cell_type": "code",
   "execution_count": 3,
   "id": "c4c8cca3-475d-4141-9bc6-f235c5c93c87",
   "metadata": {},
   "outputs": [
    {
     "name": "stdout",
     "output_type": "stream",
     "text": [
      "Writing country_subset.csv\n"
     ]
    }
   ],
   "source": [
    "%%writefile country_subset.csv\n",
    "\n",
    "Name,Continent,Population\n",
    "Afghanistan,Asia,22720000\n",
    "Albania,Europe,3401200\n",
    "Algeria,Africa,31471000\n",
    "American Samoa,Oceania,68000\n",
    "Andorra,Europe,78000\n",
    "Angola,Africa,12878000\n",
    "Anguilla,North America,8000\n",
    "Antarctica,Antarctica,0\n",
    "Antigua and Barbuda,North America,68000\n",
    "Argentina,South America,37032000"
   ]
  },
  {
   "cell_type": "code",
   "execution_count": 4,
   "id": "3973e32e-c7c9-4632-94ac-10afc5db95b8",
   "metadata": {},
   "outputs": [
    {
     "name": "stdout",
     "output_type": "stream",
     "text": [
      "country dataframe:\n",
      "                  Name      Continent  Population\n",
      "0          Afghanistan           Asia    22720000\n",
      "1              Albania         Europe     3401200\n",
      "2              Algeria         Africa    31471000\n",
      "3       American Samoa        Oceania       68000\n",
      "4              Andorra         Europe       78000\n",
      "5               Angola         Africa    12878000\n",
      "6             Anguilla  North America        8000\n",
      "7           Antarctica     Antarctica           0\n",
      "8  Antigua and Barbuda  North America       68000\n",
      "9            Argentina  South America    37032000\n"
     ]
    }
   ],
   "source": [
    "# Load the pandas and numpy packages\n",
    "import pandas as pd\n",
    "\n",
    "# Load the country.csv data\n",
    "country = pd.read_csv('country_subset.csv')\n",
    "\n",
    "# Output the country dataframe\n",
    "print('country dataframe:')\n",
    "print(country)\n"
   ]
  },
  {
   "cell_type": "code",
   "execution_count": 5,
   "id": "790ad1bd-ef6a-4670-82e1-09a9d25a884d",
   "metadata": {},
   "outputs": [
    {
     "name": "stdout",
     "output_type": "stream",
     "text": [
      "List of country names:\n",
      "0            Afghanistan\n",
      "1                Albania\n",
      "2                Algeria\n",
      "3         American Samoa\n",
      "4                Andorra\n",
      "5                 Angola\n",
      "6               Anguilla\n",
      "7             Antarctica\n",
      "8    Antigua and Barbuda\n",
      "9              Argentina\n",
      "Name: Name, dtype: object \n",
      "\n"
     ]
    }
   ],
   "source": [
    "# Select the 'Name' column and output the list of country names\n",
    "print('List of country names:')\n",
    "print(country['Name'], '\\n')"
   ]
  },
  {
   "cell_type": "code",
   "execution_count": 6,
   "id": "e75ff6d4-8dc8-4fc7-992c-cbe7848c8739",
   "metadata": {},
   "outputs": [
    {
     "name": "stdout",
     "output_type": "stream",
     "text": [
      "Dataframe of country names:\n",
      "                  Name\n",
      "0          Afghanistan\n",
      "1              Albania\n",
      "2              Algeria\n",
      "3       American Samoa\n",
      "4              Andorra\n",
      "5               Angola\n",
      "6             Anguilla\n",
      "7           Antarctica\n",
      "8  Antigua and Barbuda\n",
      "9            Argentina \n",
      "\n"
     ]
    }
   ],
   "source": [
    "# Add an extra bracket to output the country names as a dataframe\n",
    "print('Dataframe of country names:')\n",
    "print(country[['Name']], '\\n')"
   ]
  },
  {
   "cell_type": "code",
   "execution_count": 7,
   "id": "0ea53b7c-26d5-4571-9410-48a8e9f47d7d",
   "metadata": {},
   "outputs": [
    {
     "name": "stdout",
     "output_type": "stream",
     "text": [
      "Name and Continent columns:\n",
      "                  Name      Continent\n",
      "0          Afghanistan           Asia\n",
      "1              Albania         Europe\n",
      "2              Algeria         Africa\n",
      "3       American Samoa        Oceania\n",
      "4              Andorra         Europe\n",
      "5               Angola         Africa\n",
      "6             Anguilla  North America\n",
      "7           Antarctica     Antarctica\n",
      "8  Antigua and Barbuda  North America\n",
      "9            Argentina  South America \n",
      "\n"
     ]
    }
   ],
   "source": [
    "# Select and output the 'Name' and 'Continent' columns\n",
    "print('Name and Continent columns:')\n",
    "print(country[['Name','Continent']], '\\n')"
   ]
  },
  {
   "cell_type": "code",
   "execution_count": 8,
   "id": "13e48206-8eb3-43d0-96b6-cb433cebb64b",
   "metadata": {},
   "outputs": [
    {
     "name": "stdout",
     "output_type": "stream",
     "text": [
      "Element in row 0 and column 1:\n",
      "Asia \n",
      "\n"
     ]
    }
   ],
   "source": [
    "# Select the element in row 0 and column 1\n",
    "print('Element in row 0 and column 1:')\n",
    "print(country.iloc[0,1], '\\n')"
   ]
  },
  {
   "cell_type": "code",
   "execution_count": 9,
   "id": "cabb2b9f-e174-4ed3-9e82-236dddf401de",
   "metadata": {},
   "outputs": [
    {
     "name": "stdout",
     "output_type": "stream",
     "text": [
      "Rows 0 and 1 and column 1:\n",
      "0      Asia\n",
      "1    Europe\n",
      "Name: Continent, dtype: object \n",
      "\n"
     ]
    }
   ],
   "source": [
    "# Select and output rows 0 and 1 and column 1\n",
    "print('Rows 0 and 1 and column 1:')\n",
    "print(country.iloc[0:2,1], '\\n')"
   ]
  },
  {
   "cell_type": "code",
   "execution_count": 10,
   "id": "336f4dc9-fc98-4164-963d-c07f389705f2",
   "metadata": {},
   "outputs": [
    {
     "name": "stdout",
     "output_type": "stream",
     "text": [
      "All rows before row 7 and columns 1 through 2:\n",
      "       Continent  Population\n",
      "0           Asia    22720000\n",
      "1         Europe     3401200\n",
      "2         Africa    31471000\n",
      "3        Oceania       68000\n",
      "4         Europe       78000\n",
      "5         Africa    12878000\n",
      "6  North America        8000 \n",
      "\n"
     ]
    }
   ],
   "source": [
    "# Select and output all rows before row 7 and columns 1 through 2\n",
    "print('All rows before row 7 and columns 1 through 2:')\n",
    "print(country.iloc[:7,1:3], '\\n')"
   ]
  },
  {
   "cell_type": "code",
   "execution_count": 12,
   "id": "194ec94e-46d4-4f60-b019-6bdf81492c90",
   "metadata": {},
   "outputs": [
    {
     "name": "stdout",
     "output_type": "stream",
     "text": [
      "Rows 2 through 9 and all columns from column 1: \n",
      "       Continent  Population\n",
      "2         Africa    31471000\n",
      "3        Oceania       68000\n",
      "4         Europe       78000\n",
      "5         Africa    12878000\n",
      "6  North America        8000\n",
      "7     Antarctica           0\n",
      "8  North America       68000\n",
      "9  South America    37032000 \n",
      "\n"
     ]
    }
   ],
   "source": [
    "# Select and output rows 2 through 9 and all columns from column 1 onwards using iloc\n",
    "print('Rows 2 through 9 and all columns from column 1: ')\n",
    "print(country.iloc[2:10,1:], '\\n')"
   ]
  },
  {
   "cell_type": "code",
   "execution_count": 13,
   "id": "854729a3-7414-4d82-8253-97af86966ba4",
   "metadata": {},
   "outputs": [
    {
     "name": "stdout",
     "output_type": "stream",
     "text": [
      "Rows 2 through 9 and the Continent and Population columns: \n",
      "       Continent  Population\n",
      "2         Africa    31471000\n",
      "3        Oceania       68000\n",
      "4         Europe       78000\n",
      "5         Africa    12878000\n",
      "6  North America        8000\n",
      "7     Antarctica           0\n",
      "8  North America       68000\n",
      "9  South America    37032000\n"
     ]
    }
   ],
   "source": [
    "# Select and output rows 2 through 9 and the Continent and Population columns using loc\n",
    "print('Rows 2 through 9 and the Continent and Population columns: ')\n",
    "print(country.loc[2:9, ['Continent','Population']])"
   ]
  },
  {
   "cell_type": "markdown",
   "id": "807a94dd-aa38-4b37-aca6-88679e513533",
   "metadata": {},
   "source": [
    "### pandas logical operators."
   ]
  },
  {
   "cell_type": "markdown",
   "id": "2e96e21a-ae5d-4f3e-bccd-2327cd6f7c24",
   "metadata": {},
   "source": [
    "**&**\tAND operator. Outputs True if both operands are True.\n",
    "\n",
    "**|**\tOR operator. Outputs True if at least one of the operands is True.\n",
    "\n",
    "**~**\tNOT operator. Outputs the opposite truth value of the expression."
   ]
  },
  {
   "cell_type": "markdown",
   "id": "56c3ca38-ffc4-443d-9413-d8a1c03f2ba2",
   "metadata": {},
   "source": [
    "### Common DataFrame methods."
   ]
  },
  {
   "cell_type": "markdown",
   "id": "953a652d-d119-4e9c-bde2-feef51261a38",
   "metadata": {},
   "source": [
    "**drop()**\t\n",
    "\n",
    "labels=None\n",
    "axis=0\n",
    "index=None\n",
    "columns=None\n",
    "inplace=False\t\n",
    "\n",
    "Removes rows (axis=0) or columns (axis=1) from a dataframe by specifying the label name(s) and the axis as parameters. Can also remove a row by specifying the index or a column by the column name as parameters.\n",
    "\n",
    "**drop_duplicates()**\n",
    "\n",
    "subset=None\n",
    "inplace=False\t\n",
    "\n",
    "Removes duplicate rows from a dataframe. subset specifies the labels of columns used to identify duplicates. If subset=None, all columns are used. \n",
    "\n",
    "Ex: For the country dataframe, \n",
    "\n",
    "df.drop_duplicates(subset=[Name]) removes any country whose name appears more than once.\n",
    "\n",
    "**insert()**\n",
    "\n",
    "loc\n",
    "column\n",
    "value\t\n",
    "\n",
    "Inserts a column into a specific location of the dataframe. loc specifies the integer position of the new column. column specifies a string or numeric column label. value specifies column values to be inserted. \n",
    "\n",
    "Ex: df.insert(1, 'newcol', [99, 89]) inserts a new column into a dataframe labeled 'newcol' with 99 in the first row and 89 in the second row.\n",
    "\n",
    "**replace()**\n",
    "\n",
    "to_replace=None\n",
    "value=NoDefault.no_default\n",
    "inplace=False\t\n",
    "\n",
    "Replaces specified values (to_replace) in a dataframe with a different value (value). The variables to_replace and value may be of type int, float, str, dict, list, etc.\n",
    "\n",
    "\n",
    "**sort_values()**\n",
    "\n",
    "by\n",
    "axis=0\n",
    "ascending=True\n",
    "inplace=False\t\n",
    "\n",
    "Sorts a dataframe's columns or rows. The variable by specifies indices or label names to sort by. Rows (axis=0) or columns (axis=1) can be sorted. Sorting can be in ascending (ascending=True) or descending (ascending=False) order."
   ]
  },
  {
   "cell_type": "code",
   "execution_count": null,
   "id": "34ad7ea1-0dcf-467c-9639-70b2893c9054",
   "metadata": {},
   "outputs": [],
   "source": []
  }
 ],
 "metadata": {
  "kernelspec": {
   "display_name": "Python 3 (ipykernel)",
   "language": "python",
   "name": "python3"
  },
  "language_info": {
   "codemirror_mode": {
    "name": "ipython",
    "version": 3
   },
   "file_extension": ".py",
   "mimetype": "text/x-python",
   "name": "python",
   "nbconvert_exporter": "python",
   "pygments_lexer": "ipython3",
   "version": "3.12.1"
  }
 },
 "nbformat": 4,
 "nbformat_minor": 5
}
