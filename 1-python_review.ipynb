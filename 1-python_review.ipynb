{
 "cells": [
  {
   "cell_type": "markdown",
   "id": "b8b44f01",
   "metadata": {},
   "source": [
    "## Review Basic Python"
   ]
  },
  {
   "cell_type": "markdown",
   "id": "69849a45",
   "metadata": {},
   "source": [
    "### Types"
   ]
  },
  {
   "cell_type": "code",
   "execution_count": 2,
   "id": "16805047",
   "metadata": {},
   "outputs": [
    {
     "data": {
      "text/plain": [
       "6"
      ]
     },
     "execution_count": 2,
     "metadata": {},
     "output_type": "execute_result"
    }
   ],
   "source": [
    "5 + True"
   ]
  },
  {
   "cell_type": "code",
   "execution_count": 3,
   "id": "1a5da202",
   "metadata": {},
   "outputs": [
    {
     "data": {
      "text/plain": [
       "5"
      ]
     },
     "execution_count": 3,
     "metadata": {},
     "output_type": "execute_result"
    }
   ],
   "source": [
    "int(5.5)"
   ]
  },
  {
   "cell_type": "markdown",
   "id": "050e1149",
   "metadata": {},
   "source": [
    "The most common Python types are presented below.\n",
    "\n",
    "- Numeric types int and float represent the most common types used to store data\n",
    "- Sequence types string, list, and tuple are containers for collections of objects ordered by position in the sequence, where the first object has an index of 0 and subsequent elements have indices 1, 2, etc\n",
    "\n",
    "- The only mapping type in Python is the dict type. Like a sequence type, a dict serves as a container. However, each element of a dict is independent, having no special ordering or relation to other elements."
   ]
  },
  {
   "cell_type": "code",
   "execution_count": 4,
   "id": "a94234d7",
   "metadata": {},
   "outputs": [],
   "source": [
    "xString = 'This is a string'\n",
    "\n",
    "xList = [10,20,30,40,50]\n",
    "\n",
    "xTuple = (10,20,30,40,50)\n",
    "\n",
    "xSet = {10,20,30,40,50}\n",
    "\n",
    "xDict = {'key1': 10, 'key2': 20}"
   ]
  },
  {
   "cell_type": "code",
   "execution_count": 5,
   "id": "f8f6d14e",
   "metadata": {},
   "outputs": [
    {
     "name": "stdout",
     "output_type": "stream",
     "text": [
      "This is a string\n",
      "This is a string"
     ]
    }
   ],
   "source": [
    "for i in range(len(xString)):\n",
    "    print(xString[i],end='')\n",
    "    \n",
    "print()\n",
    "\n",
    "for i in xString:\n",
    "    print(i,end='')"
   ]
  },
  {
   "cell_type": "code",
   "execution_count": 6,
   "id": "c9bdbf9f",
   "metadata": {},
   "outputs": [
    {
     "name": "stdout",
     "output_type": "stream",
     "text": [
      "10 20 30 40 50 \n",
      "10 20 30 40 50 "
     ]
    }
   ],
   "source": [
    "for i in range(len(xList)):\n",
    "    print(xList[i],end=' ')\n",
    "    \n",
    "print()\n",
    "\n",
    "for i in xList:\n",
    "    print(i,end=' ')"
   ]
  },
  {
   "cell_type": "code",
   "execution_count": 7,
   "id": "7f3d7445",
   "metadata": {},
   "outputs": [
    {
     "name": "stdout",
     "output_type": "stream",
     "text": [
      "10 20 30 40 50 \n",
      "10 20 30 40 50 "
     ]
    }
   ],
   "source": [
    "for i in range(len(xTuple)):\n",
    "    print(xTuple[i],end=' ')\n",
    "    \n",
    "print()\n",
    "\n",
    "for i in xTuple:\n",
    "    print(i,end=' ')"
   ]
  },
  {
   "cell_type": "code",
   "execution_count": 8,
   "id": "aa07f074",
   "metadata": {},
   "outputs": [
    {
     "name": "stdout",
     "output_type": "stream",
     "text": [
      "50 20 40 10 30 "
     ]
    }
   ],
   "source": [
    "\n",
    "for i in xSet:\n",
    "    print(i,end=' ')"
   ]
  },
  {
   "cell_type": "code",
   "execution_count": 9,
   "id": "bdcd9459",
   "metadata": {},
   "outputs": [
    {
     "name": "stdout",
     "output_type": "stream",
     "text": [
      "key1 key2 \n",
      "key1:10 key2:20 "
     ]
    }
   ],
   "source": [
    "for i in xDict:\n",
    "    print(i,end=' ')\n",
    "\n",
    "print()\n",
    "for i,j in xDict.items():\n",
    "    print(i,end=':')\n",
    "    print(j,end=' ')"
   ]
  },
  {
   "cell_type": "code",
   "execution_count": 12,
   "id": "080fd207",
   "metadata": {},
   "outputs": [
    {
     "name": "stdout",
     "output_type": "stream",
     "text": [
      "[1, 2, 2, 3, 3, 4, 4]\n"
     ]
    }
   ],
   "source": [
    "xlist = [1,2,2,3,3,4,4]\n",
    "\n",
    "print(xlist)"
   ]
  },
  {
   "cell_type": "code",
   "execution_count": 13,
   "id": "90489915",
   "metadata": {},
   "outputs": [
    {
     "name": "stdout",
     "output_type": "stream",
     "text": [
      "{1, 2, 3, 4}\n"
     ]
    }
   ],
   "source": [
    "print(set(xlist))"
   ]
  },
  {
   "cell_type": "markdown",
   "id": "bec21add",
   "metadata": {},
   "source": [
    "#### Type ----\tNotes\n",
    "\n",
    "string---- Sequence type: Used for text.\n",
    "\n",
    "list  ----\tSequence type: A mutable container with ordered elements.\n",
    "\n",
    "tuple -----\tSequence type: An immutable container with ordered elements.\n",
    "\n",
    "set\t  ---- Set type: A mutable container with unordered and unique elements.\n",
    "\n",
    "dict  -----\tMapping type: A container with key-values associated elements."
   ]
  },
  {
   "cell_type": "markdown",
   "id": "b2427ebb",
   "metadata": {},
   "source": [
    "#### Choosing a container type\n",
    "\n",
    "- A programmer might use a list when data has an order, such as lines of text on a page. A programmer might use a tuple instead of a list if the contained data should not change. If order is not important, a programmer might use a dictionary to capture relationships between elements, such as student names and grades."
   ]
  },
  {
   "cell_type": "markdown",
   "id": "934f1c24",
   "metadata": {},
   "source": [
    "### Loop and Branching"
   ]
  },
  {
   "cell_type": "code",
   "execution_count": 26,
   "id": "3ecf1622",
   "metadata": {},
   "outputs": [
    {
     "name": "stdout",
     "output_type": "stream",
     "text": [
      "This is a cs course\n"
     ]
    }
   ],
   "source": [
    "x = 'cs'\n",
    "y = 'eng'\n",
    "\n",
    "if x == 'cs':\n",
    "    print(f'This is a {x} course')"
   ]
  },
  {
   "cell_type": "code",
   "execution_count": 27,
   "id": "5841a20c-c53b-445d-bd71-158bb590e82c",
   "metadata": {},
   "outputs": [
    {
     "name": "stdout",
     "output_type": "stream",
     "text": [
      "This is cs and eng course\n"
     ]
    }
   ],
   "source": [
    "x = 'cs'\n",
    "y = 'eng'\n",
    "if x == 'cs' and y == 'eng':\n",
    "    print(f'This is {x} and {y} course')"
   ]
  },
  {
   "cell_type": "code",
   "execution_count": 37,
   "id": "1539d46a",
   "metadata": {},
   "outputs": [
    {
     "name": "stdout",
     "output_type": "stream",
     "text": [
      "[0, 1, 2, 3, 4, 5, 6, 7, 8, 9]\n"
     ]
    }
   ],
   "source": [
    "x = []\n",
    "\n",
    "for i in range(10):\n",
    "    x = x + [i]\n",
    "\n",
    "print(x)"
   ]
  },
  {
   "cell_type": "code",
   "execution_count": 53,
   "id": "40e5ebf5",
   "metadata": {},
   "outputs": [
    {
     "name": "stdout",
     "output_type": "stream",
     "text": [
      "[0, 1, 2, 3, 4, 5, 6, 7, 8, 9]\n"
     ]
    }
   ],
   "source": [
    "y = [i for i in range(10)]\n",
    "\n",
    "print(y)"
   ]
  },
  {
   "cell_type": "code",
   "execution_count": 3,
   "id": "7cdede63",
   "metadata": {},
   "outputs": [
    {
     "name": "stdin",
     "output_type": "stream",
     "text": [
      "Enter a value:  6\n"
     ]
    },
    {
     "name": "stdout",
     "output_type": "stream",
     "text": [
      "6\n"
     ]
    },
    {
     "name": "stdin",
     "output_type": "stream",
     "text": [
      "Enter a value:  3\n"
     ]
    },
    {
     "name": "stdout",
     "output_type": "stream",
     "text": [
      "3\n"
     ]
    },
    {
     "name": "stdin",
     "output_type": "stream",
     "text": [
      "Enter a value:  1\n"
     ]
    }
   ],
   "source": [
    "inp = int(input('Enter a value: '))\n",
    "\n",
    "while inp != 1:\n",
    "    print(inp)\n",
    "    inp = int(input('Enter a value: '))"
   ]
  },
  {
   "cell_type": "markdown",
   "id": "5807c2a4-2401-4703-a2ff-a5a3882d5db3",
   "metadata": {},
   "source": [
    "### Slicing"
   ]
  },
  {
   "cell_type": "code",
   "execution_count": 5,
   "id": "d7ec7998-b6a0-4f1d-8998-aab4dfe7b371",
   "metadata": {},
   "outputs": [
    {
     "name": "stdout",
     "output_type": "stream",
     "text": [
      "[0, 2, 4, 6, 8, 10, 12, 14, 16, 18]\n"
     ]
    },
    {
     "data": {
      "text/plain": [
       "[4, 6]"
      ]
     },
     "execution_count": 5,
     "metadata": {},
     "output_type": "execute_result"
    }
   ],
   "source": [
    "y = [i+i for i in range(10)]\n",
    "print(y)\n",
    "\n",
    "y[2:4]"
   ]
  },
  {
   "cell_type": "code",
   "execution_count": 50,
   "id": "77d0611f-022e-4aa6-b6df-346b3fb09724",
   "metadata": {},
   "outputs": [
    {
     "data": {
      "text/plain": [
       "18"
      ]
     },
     "execution_count": 50,
     "metadata": {},
     "output_type": "execute_result"
    }
   ],
   "source": [
    "y[-1]"
   ]
  },
  {
   "cell_type": "code",
   "execution_count": 51,
   "id": "1d7eda39-df02-4632-8336-d00b408f674c",
   "metadata": {},
   "outputs": [
    {
     "data": {
      "text/plain": [
       "[6, 8, 10, 12, 14, 16]"
      ]
     },
     "execution_count": 51,
     "metadata": {},
     "output_type": "execute_result"
    }
   ],
   "source": [
    "y[3:-1]"
   ]
  },
  {
   "cell_type": "code",
   "execution_count": 52,
   "id": "8f2733dc-c1b6-4191-9e7c-76607371aed4",
   "metadata": {},
   "outputs": [
    {
     "data": {
      "text/plain": [
       "[8, 10, 12, 14]"
      ]
     },
     "execution_count": 52,
     "metadata": {},
     "output_type": "execute_result"
    }
   ],
   "source": [
    "y[-6:-2]"
   ]
  },
  {
   "cell_type": "code",
   "execution_count": null,
   "id": "e064b045-57b3-4853-9c80-a9eede13f48c",
   "metadata": {},
   "outputs": [],
   "source": []
  },
  {
   "cell_type": "markdown",
   "id": "ecd3bd83-be01-4b81-ac91-f99387d1badb",
   "metadata": {},
   "source": [
    "### Ranges\n",
    "\n",
    "range(start, stop, step)"
   ]
  },
  {
   "cell_type": "code",
   "execution_count": 26,
   "id": "5c2cd195-eceb-496a-afef-f040a5411ecb",
   "metadata": {},
   "outputs": [
    {
     "name": "stdout",
     "output_type": "stream",
     "text": [
      "-1 -3 -5 -7 -9 "
     ]
    }
   ],
   "source": [
    "x = range(-1,-10,-2)\n",
    "\n",
    "for i in x:\n",
    "    print(i, end=\" \")\n"
   ]
  },
  {
   "cell_type": "code",
   "execution_count": 27,
   "id": "13187992-4c84-491b-a5d0-53a82b26aa8c",
   "metadata": {},
   "outputs": [
    {
     "name": "stdout",
     "output_type": "stream",
     "text": [
      "2 5 8 "
     ]
    }
   ],
   "source": [
    "x = range(2,10,3)\n",
    "\n",
    "for i in x:\n",
    "    print(i, end=\" \")"
   ]
  },
  {
   "cell_type": "markdown",
   "id": "d5d52578",
   "metadata": {},
   "source": [
    "### Function"
   ]
  },
  {
   "cell_type": "markdown",
   "id": "8cc18c1f",
   "metadata": {},
   "source": [
    "A function can be defined once, then called from multiple places in a program, thus avoiding redundant code"
   ]
  },
  {
   "cell_type": "code",
   "execution_count": 11,
   "id": "8d3ea23e",
   "metadata": {},
   "outputs": [
    {
     "name": "stdout",
     "output_type": "stream",
     "text": [
      "x = 15, y = 15\n"
     ]
    }
   ],
   "source": [
    "def add_num(x,y):\n",
    "    s = x + y\n",
    "    return s, (x+y)\n",
    "\n",
    "v1,v2 = 5,10\n",
    "\n",
    "x,y = add_num(v1,v2)\n",
    "\n",
    "print(f'x = {x}, y = {y}')"
   ]
  },
  {
   "cell_type": "markdown",
   "id": "5b39afe3",
   "metadata": {},
   "source": [
    "### Arbitrary arguments"
   ]
  },
  {
   "cell_type": "markdown",
   "id": "fa5a78f5",
   "metadata": {},
   "source": [
    "Sometimes a programmer doesn't know how many arguments a function requires. A function definition can include an *args parameter that collects optional positional parameters into an arbitrary argument list tuple.\n",
    "\n"
   ]
  },
  {
   "cell_type": "code",
   "execution_count": 16,
   "id": "d304361b",
   "metadata": {},
   "outputs": [],
   "source": [
    "def add_num(x,y,*args):\n",
    "    s = x + y\n",
    "    \n",
    "    for i in args:\n",
    "        s = s + i\n",
    "    \n",
    "    return s"
   ]
  },
  {
   "cell_type": "code",
   "execution_count": 17,
   "id": "d762f136-825d-4e38-93e1-9dcef73cfb61",
   "metadata": {},
   "outputs": [
    {
     "name": "stdout",
     "output_type": "stream",
     "text": [
      "s1 = 3, s2 = 15, s3 = 36\n"
     ]
    }
   ],
   "source": [
    "s1 = add_num(1,2)\n",
    "s2 = add_num(1,2,3,4,5)\n",
    "s3 = add_num(1,2,3,4,5,6,7,8)\n",
    "\n",
    "print(f's1 = {s1}, s2 = {s2}, s3 = {s3}')"
   ]
  },
  {
   "cell_type": "code",
   "execution_count": 36,
   "id": "a2fa0490",
   "metadata": {},
   "outputs": [
    {
     "data": {
      "text/plain": [
       "21"
      ]
     },
     "execution_count": 36,
     "metadata": {},
     "output_type": "execute_result"
    }
   ],
   "source": [
    "\n",
    "x,y=2,3\n",
    "\n",
    "add_num(x,y,x+1,y+1,x+2,y+2)"
   ]
  },
  {
   "cell_type": "markdown",
   "id": "ca5547c9",
   "metadata": {},
   "source": [
    "#### **kwargs\n",
    "Adding a final function parameter of **kwargs, short for keyword arguments, creates a dictionary containing \"extra\" arguments not defined in the function definition. The keys of the dictionary are the parameter names specified in the function call."
   ]
  },
  {
   "cell_type": "code",
   "execution_count": 20,
   "id": "aa53088f",
   "metadata": {},
   "outputs": [],
   "source": [
    "def add_num(x,y,**kwargs):\n",
    "    print(kwargs)\n",
    "    \n",
    "    print(f'x = {x}, y = {y}', end=' ') \n",
    "    s = x+y\n",
    "    if len(kwargs) > 0: \n",
    "        print('with', end=' ') \n",
    "    for (k, v) in kwargs.items():\n",
    "        s = s + v\n",
    "        print(k,end=' ')\n",
    "    print(f's={s}')"
   ]
  },
  {
   "cell_type": "code",
   "execution_count": 19,
   "id": "61d679a8",
   "metadata": {},
   "outputs": [
    {
     "name": "stdout",
     "output_type": "stream",
     "text": [
      "{'a': 3, 'b': 4, 'c': 5}\n",
      "x = 4, y = 6 with a b c s=22\n"
     ]
    }
   ],
   "source": [
    "x = 4\n",
    "y = 6\n",
    "\n",
    "add_num(x,y,a=3,b=4,c=5)"
   ]
  },
  {
   "cell_type": "markdown",
   "id": "8a874288-3e70-4f6b-8e2b-8f2cec960a67",
   "metadata": {},
   "source": [
    "### default parameters"
   ]
  },
  {
   "cell_type": "code",
   "execution_count": 1,
   "id": "7c37835a",
   "metadata": {},
   "outputs": [],
   "source": [
    "def add_num(x,y,doSub=False):\n",
    "    \n",
    "    print(f'sum = {x+y}')\n",
    "    \n",
    "    if doSub:\n",
    "        print(f'sub = {x-y}')\n",
    "    "
   ]
  },
  {
   "cell_type": "code",
   "execution_count": 2,
   "id": "87cb8c4a-0e4e-4c3b-92d6-fead3afbb57f",
   "metadata": {},
   "outputs": [
    {
     "name": "stdout",
     "output_type": "stream",
     "text": [
      "sum = 8\n"
     ]
    }
   ],
   "source": [
    "x = 5\n",
    "y = 3\n",
    "\n",
    "add_num(x,y)"
   ]
  },
  {
   "cell_type": "code",
   "execution_count": 3,
   "id": "9995bac0-1d4d-4816-9621-e8e27a66e002",
   "metadata": {},
   "outputs": [
    {
     "name": "stdout",
     "output_type": "stream",
     "text": [
      "sum = 8\n",
      "sub = 2\n"
     ]
    }
   ],
   "source": [
    "add_num(x,y,True)"
   ]
  },
  {
   "cell_type": "markdown",
   "id": "7ff2359c-deb5-46db-8ec9-4279fa30941a",
   "metadata": {},
   "source": [
    "### Anonymous Functions"
   ]
  },
  {
   "cell_type": "markdown",
   "id": "9228d073-3ce5-48b0-8c40-b12f40394b37",
   "metadata": {},
   "source": [
    "- A lambda function is a small anonymous function.\n",
    "\n",
    "- A lambda function can take any number of arguments, but can only have one expression."
   ]
  },
  {
   "cell_type": "markdown",
   "id": "b285860e-b862-44e7-818e-6fc90f4bef95",
   "metadata": {},
   "source": [
    "They have the following sytax:\n",
    "\n",
    "    lambda <Parameter>: <Statement>\n"
   ]
  },
  {
   "cell_type": "markdown",
   "id": "272ebfe6-8aea-49bb-bf81-9a42a7cf2c52",
   "metadata": {},
   "source": [
    "where lambda is the keyword designating a lambda function, \n",
    "\n",
    "\\<Parameter> is an input parameter,\n",
    "\n",
    "and \\<Statement> is the statement to execute using the parameter. \n",
    "\n",
    "The result of \\<Statement> is the return value."
   ]
  },
  {
   "cell_type": "code",
   "execution_count": 3,
   "id": "00585071-4726-4841-90ed-52930371461f",
   "metadata": {},
   "outputs": [],
   "source": [
    "a = lambda x: x +1"
   ]
  },
  {
   "cell_type": "code",
   "execution_count": 4,
   "id": "11d62d39-440d-495d-99fa-44853ea2f932",
   "metadata": {},
   "outputs": [
    {
     "name": "stdout",
     "output_type": "stream",
     "text": [
      "6\n"
     ]
    }
   ],
   "source": [
    "print(a(5))"
   ]
  },
  {
   "cell_type": "code",
   "execution_count": 5,
   "id": "a51f4053-2feb-4858-89aa-9e85ca28f347",
   "metadata": {},
   "outputs": [
    {
     "name": "stdout",
     "output_type": "stream",
     "text": [
      "22\n",
      "33\n"
     ]
    }
   ],
   "source": [
    "def myfunc(n):\n",
    "  return lambda a : a * n\n",
    "\n",
    "mydoubler = myfunc(2)\n",
    "mytripler = myfunc(3)\n",
    "\n",
    "print(mydoubler(11))\n",
    "print(mytripler(11))"
   ]
  },
  {
   "cell_type": "code",
   "execution_count": null,
   "id": "5c615dd6-f4c3-4039-b392-d012be4a2224",
   "metadata": {},
   "outputs": [],
   "source": []
  }
 ],
 "metadata": {
  "kernelspec": {
   "display_name": "Python 3 (ipykernel)",
   "language": "python",
   "name": "python3"
  },
  "language_info": {
   "codemirror_mode": {
    "name": "ipython",
    "version": 3
   },
   "file_extension": ".py",
   "mimetype": "text/x-python",
   "name": "python",
   "nbconvert_exporter": "python",
   "pygments_lexer": "ipython3",
   "version": "3.12.1"
  }
 },
 "nbformat": 4,
 "nbformat_minor": 5
}
