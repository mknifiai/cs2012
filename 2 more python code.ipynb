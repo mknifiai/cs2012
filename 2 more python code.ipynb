{
 "cells": [
  {
   "cell_type": "markdown",
   "id": "1ef2e059-dbdb-4ef8-9ef0-2403d2b5e4bd",
   "metadata": {},
   "source": [
    "### Calling a List of Functions\n"
   ]
  },
  {
   "cell_type": "code",
   "execution_count": 2,
   "id": "fa82f1d9-a4d8-43cd-b178-32492088be7a",
   "metadata": {},
   "outputs": [
    {
     "name": "stdout",
     "output_type": "stream",
     "text": [
      "2\n",
      "3\n"
     ]
    }
   ],
   "source": [
    "def add_one(n):\n",
    "    return n + 1\n",
    "\n",
    "def add_two(n):\n",
    "    return n + 2\n",
    "\n",
    "my_functions = [add_one, add_two]\n",
    "\n",
    "for my_func in my_functions:\n",
    "    print(my_func(1))"
   ]
  },
  {
   "cell_type": "markdown",
   "id": "461ecf5b-110b-45e1-b1ec-c1452c2f89df",
   "metadata": {},
   "source": [
    "### Pass by Reference and Pass by Value\n",
    "\n",
    "When you pass function arguments by reference, those arguments are only references to existing values. \n",
    "\n",
    "In contrast, when you pass arguments by value, those arguments become independent copies of the original values."
   ]
  },
  {
   "cell_type": "code",
   "execution_count": 7,
   "id": "4642169c-8d1a-4d41-891d-b2c5e5c00073",
   "metadata": {},
   "outputs": [],
   "source": [
    "def main():\n",
    "    a = [1, 2, 3]\n",
    "    v = 10\n",
    "    print(\"before calling fun:\", a)\n",
    "    fun(a)\n",
    "    print(\"after calling fun:\", a)\n",
    "    \n",
    "    print('----------------------')\n",
    "    \n",
    "    print(\"before calling add_one:\", v)\n",
    "    add_one(v)\n",
    "    print(\"after calling add_one:\", v)\n",
    "\n",
    "def fun(lst):\n",
    "    lst.append(4)\n",
    "\n",
    "def add_one(v):\n",
    "    v = v + 1"
   ]
  },
  {
   "cell_type": "code",
   "execution_count": 8,
   "id": "a7d1cdcf-e9df-4511-beb2-2e24e654ab1f",
   "metadata": {},
   "outputs": [
    {
     "name": "stdout",
     "output_type": "stream",
     "text": [
      "before calling fun: [1, 2, 3]\n",
      "after calling fun: [1, 2, 3, 4]\n",
      "----------------------\n",
      "before calling add_one: 10\n",
      "after calling add_one: 10\n"
     ]
    }
   ],
   "source": [
    "main()"
   ]
  },
  {
   "cell_type": "code",
   "execution_count": 9,
   "id": "af94f26e-e6f8-4ff4-9f1b-e864a904dc72",
   "metadata": {},
   "outputs": [],
   "source": [
    "import copy"
   ]
  },
  {
   "cell_type": "code",
   "execution_count": 14,
   "id": "ed5c6d40-2a77-4ddf-af4b-153049b90448",
   "metadata": {},
   "outputs": [],
   "source": [
    "\n",
    "def main():\n",
    "    a = [1, 2, 3]\n",
    "    v = 10\n",
    "    print(\"before calling fun:\", a)\n",
    "    fun(copy.copy(a))\n",
    "    print(\"after calling fun:\", a)\n",
    "    \n",
    "    print('----------------------')\n",
    "    \n",
    "    print(\"before calling add_one:\", v)\n",
    "    add_one(v)\n",
    "    print(\"after calling add_one:\", v)\n",
    "\n",
    "def fun(lst):\n",
    "    lst.append(4)\n",
    "\n",
    "def add_one(v):\n",
    "    v = v + 1"
   ]
  },
  {
   "cell_type": "code",
   "execution_count": 15,
   "id": "f75e3697-be85-4cfa-97eb-111a33d751d5",
   "metadata": {},
   "outputs": [
    {
     "name": "stdout",
     "output_type": "stream",
     "text": [
      "before calling fun: [1, 2, 3]\n",
      "after calling fun: [1, 2, 3]\n",
      "----------------------\n",
      "before calling add_one: 10\n",
      "after calling add_one: 10\n"
     ]
    }
   ],
   "source": [
    "main()"
   ]
  },
  {
   "cell_type": "markdown",
   "id": "94de67d5-da64-4911-acde-2f4e8ac97762",
   "metadata": {},
   "source": [
    "### Variable scope and Gloabl variable"
   ]
  },
  {
   "cell_type": "code",
   "execution_count": 29,
   "id": "fd947f37-3386-45a7-a0dc-67f69f163d2f",
   "metadata": {},
   "outputs": [
    {
     "ename": "UnboundLocalError",
     "evalue": "cannot access local variable 'x' where it is not associated with a value",
     "output_type": "error",
     "traceback": [
      "\u001b[0;31m---------------------------------------------------------------------------\u001b[0m",
      "\u001b[0;31mUnboundLocalError\u001b[0m                         Traceback (most recent call last)",
      "Cell \u001b[0;32mIn[29], line 6\u001b[0m\n\u001b[1;32m      3\u001b[0m \u001b[38;5;28;01mdef\u001b[39;00m \u001b[38;5;21madd_one\u001b[39m():\n\u001b[1;32m      4\u001b[0m     x \u001b[38;5;241m=\u001b[39m x \u001b[38;5;241m+\u001b[39m \u001b[38;5;241m1\u001b[39m\n\u001b[0;32m----> 6\u001b[0m \u001b[43madd_one\u001b[49m\u001b[43m(\u001b[49m\u001b[43m)\u001b[49m\n\u001b[1;32m      8\u001b[0m \u001b[38;5;28mprint\u001b[39m(x)\n",
      "Cell \u001b[0;32mIn[29], line 4\u001b[0m, in \u001b[0;36madd_one\u001b[0;34m()\u001b[0m\n\u001b[1;32m      3\u001b[0m \u001b[38;5;28;01mdef\u001b[39;00m \u001b[38;5;21madd_one\u001b[39m():\n\u001b[0;32m----> 4\u001b[0m     x \u001b[38;5;241m=\u001b[39m \u001b[43mx\u001b[49m \u001b[38;5;241m+\u001b[39m \u001b[38;5;241m1\u001b[39m\n",
      "\u001b[0;31mUnboundLocalError\u001b[0m: cannot access local variable 'x' where it is not associated with a value"
     ]
    }
   ],
   "source": [
    "x = 5\n",
    "\n",
    "def add_one():\n",
    "    x = x + 1\n",
    "\n",
    "add_one()\n",
    "\n",
    "print(x)"
   ]
  },
  {
   "cell_type": "code",
   "execution_count": 30,
   "id": "a49243f0-d72a-4d65-a623-2302432345b0",
   "metadata": {},
   "outputs": [
    {
     "name": "stdout",
     "output_type": "stream",
     "text": [
      "6\n"
     ]
    }
   ],
   "source": [
    "x = 5\n",
    "\n",
    "def add_one():\n",
    "    global x\n",
    "    x = x + 1\n",
    "\n",
    "add_one()\n",
    "\n",
    "\n",
    "print(x)"
   ]
  },
  {
   "cell_type": "markdown",
   "id": "f020a985",
   "metadata": {},
   "source": [
    "# Exceptions and Recursion"
   ]
  },
  {
   "cell_type": "markdown",
   "id": "9da6c16b",
   "metadata": {},
   "source": [
    "Programming errors can be classified in three groups:\n",
    "\n",
    "1- Syntax errors\n",
    "\n",
    "2- Run-time errors\n",
    "\n",
    "3- Logical errors  # y = x / x+1 "
   ]
  },
  {
   "cell_type": "markdown",
   "id": "cf711661",
   "metadata": {},
   "source": [
    "## Handle Exceptions"
   ]
  },
  {
   "cell_type": "code",
   "execution_count": 21,
   "id": "fefad86c-f024-4afc-90bb-5f1b1b351bd9",
   "metadata": {},
   "outputs": [],
   "source": [
    "try:\n",
    "    #......    # a block with possible errors\n",
    "    #......    # if there are function calls here\n",
    "    #......    # and error occurs in the function, we can handle error here\n",
    "    pass;\n",
    "    \n",
    "except exceptionname:     # exceptionname is optional\n",
    "    #.....     # this is error handling block.\n",
    "    #.....     # when there is an error, execution jumps here\n",
    "    pass"
   ]
  },
  {
   "cell_type": "code",
   "execution_count": 19,
   "id": "37b9a88c-ae8a-4561-8bbc-137e02c2f7dc",
   "metadata": {},
   "outputs": [
    {
     "name": "stdin",
     "output_type": "stream",
     "text": [
      " 2\n"
     ]
    },
    {
     "name": "stdout",
     "output_type": "stream",
     "text": [
      "3\n"
     ]
    },
    {
     "name": "stdin",
     "output_type": "stream",
     "text": [
      " 1\n"
     ]
    },
    {
     "name": "stdout",
     "output_type": "stream",
     "text": [
      "Dictionary does not have such key\n"
     ]
    }
   ],
   "source": [
    "import math\n",
    "\n",
    "a = [1,2,3]\n",
    "age = {'Han': 30, 'Leia': 20, 'Luke': 20}\n",
    "\n",
    "try:\n",
    "  n = int(input())\n",
    "  print(a[n])          # will fail for n > 2 or n < -3\n",
    "\n",
    "  name = input()\n",
    "  print(age[name])     # will fail names other than 'Han', 'Leia', 'Luke'\n",
    "\n",
    "  x = float(input())\n",
    "  y = math.sqrt(x)     # will fail for x < 0\n",
    "  y = 1 / x            # will fail for x == 0\n",
    "    \n",
    "except IndexError:\n",
    "  print('List index is not valid')\n",
    "except KeyError:\n",
    "  print('Dictionary does not have such key')\n",
    "except ValueError:\n",
    "  print('Invalid value for square root operation')\n",
    "except ZeroDivisionError:\n",
    "  print('Division by zero does not have value')\n",
    "except:\n",
    "  print('None of the known errors. Something happened even if nothing happened')"
   ]
  },
  {
   "cell_type": "markdown",
   "id": "b7e7ba41",
   "metadata": {},
   "source": [
    "### Raising exceptions"
   ]
  },
  {
   "cell_type": "code",
   "execution_count": 27,
   "id": "a0f47afe",
   "metadata": {},
   "outputs": [
    {
     "name": "stdin",
     "output_type": "stream",
     "text": [
      " -21\n"
     ]
    },
    {
     "name": "stdout",
     "output_type": "stream",
     "text": [
      "Error: Invalid age\n"
     ]
    }
   ],
   "source": [
    "try:\n",
    "    user_age = int(input())\n",
    "\n",
    "    if user_age < 0:\n",
    "        raise ValueError('Invalid age')\n",
    "\n",
    "    avg_max_heart_rate = 220 - user_age\n",
    "\n",
    "    print(f'Avg: {avg_max_heart_rate}')\n",
    "\n",
    "except ValueError as excpt:\n",
    "    print(f'Error: {excpt}')"
   ]
  },
  {
   "cell_type": "markdown",
   "id": "c8d0a770",
   "metadata": {},
   "source": [
    "### Using finally to clean up"
   ]
  },
  {
   "cell_type": "code",
   "execution_count": 28,
   "id": "3b83503d",
   "metadata": {},
   "outputs": [],
   "source": [
    "try:\n",
    "    # ...\n",
    "    pass\n",
    "except:\n",
    "    # Handle exception\n",
    "    pass\n",
    "finally:\n",
    "    # Clean up actions always executed\n",
    "    pass"
   ]
  },
  {
   "cell_type": "markdown",
   "id": "df5caf2b",
   "metadata": {},
   "source": [
    "## Recursive functions\n"
   ]
  },
  {
   "cell_type": "markdown",
   "id": "8c2092a3",
   "metadata": {},
   "source": [
    "A function may call other functions, including calling itself. A function that calls itself is known as a recursive function."
   ]
  },
  {
   "cell_type": "code",
   "execution_count": 2,
   "id": "791915e6",
   "metadata": {},
   "outputs": [
    {
     "name": "stdout",
     "output_type": "stream",
     "text": [
      "5\n",
      "4\n",
      "3\n",
      "2\n",
      "1\n",
      "Go!\n"
     ]
    }
   ],
   "source": [
    "def count_down(count):\n",
    "    if count == 0:            \n",
    "        print('Go!')                  \n",
    "    else:                        \n",
    "        print(count)             \n",
    "        count_down(count-1)        \n",
    "            \n",
    "count_down(5)"
   ]
  },
  {
   "cell_type": "markdown",
   "id": "43af0a1b-5080-47e4-bd9a-6a8a24f774cd",
   "metadata": {},
   "source": [
    "### Generators\n",
    "\n",
    "A generator is a convenient way, similar to writing a normal function, to construct a new iterable object. \n",
    "\n",
    "Whereas normal functions execute and return a single result at a time, generators can return a sequence of multiple values by pausing and resuming execution each time the generator is used"
   ]
  },
  {
   "cell_type": "code",
   "execution_count": 10,
   "id": "c0a61e5c-cc64-4d97-a114-7d3c2244d6e8",
   "metadata": {},
   "outputs": [],
   "source": [
    "def squares(n=10):\n",
    "    print(f'Generating squares from 1 to {n ** 2}') \n",
    "    for i in range(1, n + 1):\n",
    "        yield i**2"
   ]
  },
  {
   "cell_type": "code",
   "execution_count": 19,
   "id": "dc75550b-6bb4-4afc-ade4-8abde5416aca",
   "metadata": {},
   "outputs": [],
   "source": [
    "gen = squares()"
   ]
  },
  {
   "cell_type": "code",
   "execution_count": 20,
   "id": "5c31b224-4caa-46a1-a27d-ac34219d025d",
   "metadata": {},
   "outputs": [
    {
     "name": "stdout",
     "output_type": "stream",
     "text": [
      "Generating squares from 1 to 100\n",
      "1 4 9 16 25 36 49 64 81 100 "
     ]
    }
   ],
   "source": [
    "for x in gen:\n",
    "    print(x, end=\" \")"
   ]
  },
  {
   "cell_type": "code",
   "execution_count": 21,
   "id": "c033a753-c924-4bdc-80fd-5f5641e9a725",
   "metadata": {},
   "outputs": [
    {
     "name": "stdout",
     "output_type": "stream",
     "text": [
      "Generating squares from 1 to 100\n"
     ]
    },
    {
     "data": {
      "text/plain": [
       "1"
      ]
     },
     "execution_count": 21,
     "metadata": {},
     "output_type": "execute_result"
    }
   ],
   "source": [
    "gen = squares()\n",
    "next(gen)"
   ]
  },
  {
   "cell_type": "code",
   "execution_count": 22,
   "id": "0ed0e34b-1a17-4ee9-9ffc-a0a480e2a0cf",
   "metadata": {},
   "outputs": [
    {
     "data": {
      "text/plain": [
       "4"
      ]
     },
     "execution_count": 22,
     "metadata": {},
     "output_type": "execute_result"
    }
   ],
   "source": [
    "next(gen)"
   ]
  },
  {
   "cell_type": "markdown",
   "id": "70dbc339-908f-4938-a888-9be2b7d2f04e",
   "metadata": {},
   "source": [
    "### Script and Module"
   ]
  },
  {
   "cell_type": "markdown",
   "id": "e92f2b95-ea61-42e3-8db0-7871e94e1fb7",
   "metadata": {},
   "source": [
    "The primary purpose of $if __name__ == \"__main__\"$: is to allow a Python script to serve a dual role:\n",
    "\n",
    "    - Standalone Program\n",
    "    - Importable Module: Its functions, classes, and variables can be imported and utilized by other Python scripts without automatically running the code intended for direct execution."
   ]
  },
  {
   "cell_type": "code",
   "execution_count": 1,
   "id": "ff1fcd3d-3390-4512-b0f6-086222b4f5bc",
   "metadata": {},
   "outputs": [
    {
     "name": "stdout",
     "output_type": "stream",
     "text": [
      "Overwriting mycode.py\n"
     ]
    }
   ],
   "source": [
    "%%writefile mycode.py \n",
    "\n",
    "import math\n",
    "\n",
    "def find_area_of_circle(radius):\n",
    "    return math.pi * radius ** 2\n",
    "    \n",
    "def find_area_of_rectangle(width, height):\n",
    "    return width * height\n",
    "    \n",
    "\n",
    "if __name__ == \"__main__\":\n",
    "\n",
    "    shape = int(input(\"Enter 1 for circle, 2 for rectangle: \"))\n",
    "    \n",
    "    if shape == 1:\n",
    "        radius = int(input(\"Enter radius: \"))\n",
    "        print(f\"The area of the circle is {find_area_of_circle(radius)}\")\n",
    "        \n",
    "    elif shape == 2:\n",
    "        width = int(input(\"Enter width: \"))\n",
    "        height = int(input(\"Enter height: \"))\n",
    "        print(f\"The area of the rectangle is {find_area_of_rectangle(width, height)}\")"
   ]
  },
  {
   "cell_type": "code",
   "execution_count": 2,
   "id": "4fe1d7d4-ad5f-4829-b4b7-9d9c83d56da3",
   "metadata": {},
   "outputs": [
    {
     "name": "stdin",
     "output_type": "stream",
     "text": [
      "Enter 1 for circle, 2 for rectangle:  1\n",
      "Enter radius:  2\n"
     ]
    },
    {
     "name": "stdout",
     "output_type": "stream",
     "text": [
      "The area of the circle is 12.566370614359172\n"
     ]
    }
   ],
   "source": [
    "%run mycode.py"
   ]
  },
  {
   "cell_type": "code",
   "execution_count": 4,
   "id": "26784fa5-62d2-4e35-9849-340faa75dcde",
   "metadata": {},
   "outputs": [
    {
     "data": {
      "text/plain": [
       "12.566370614359172"
      ]
     },
     "execution_count": 4,
     "metadata": {},
     "output_type": "execute_result"
    }
   ],
   "source": [
    "import mycode\n",
    "\n",
    "mycode.find_area_of_circle(2)"
   ]
  }
 ],
 "metadata": {
  "kernelspec": {
   "display_name": "Python 3 (ipykernel)",
   "language": "python",
   "name": "python3"
  },
  "language_info": {
   "codemirror_mode": {
    "name": "ipython",
    "version": 3
   },
   "file_extension": ".py",
   "mimetype": "text/x-python",
   "name": "python",
   "nbconvert_exporter": "python",
   "pygments_lexer": "ipython3",
   "version": "3.12.1"
  }
 },
 "nbformat": 4,
 "nbformat_minor": 5
}
