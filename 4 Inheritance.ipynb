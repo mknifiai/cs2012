{
 "cells": [
  {
   "cell_type": "markdown",
   "id": "02db83a5-79f4-4b76-a508-9183cb322a4c",
   "metadata": {},
   "source": [
    "## Inheritance"
   ]
  },
  {
   "cell_type": "markdown",
   "id": "762db375-b07c-4ad3-943a-fc0bce5e3552",
   "metadata": {},
   "source": [
    "Another powerful feature of object-oriented programming is the ability to create a new class by extending an existing class. When extending a class, we call **the original class the parent class** and the **new class the child class**.\n",
    "\n",
    "The child class also known as **derived class** referring to a class that **inherits** the class attributes of another class, known as a **base class**"
   ]
  },
  {
   "cell_type": "code",
   "execution_count": 15,
   "id": "776edac3-837e-4ceb-afd9-a2b260337401",
   "metadata": {},
   "outputs": [
    {
     "name": "stdout",
     "output_type": "stream",
     "text": [
      "Smith Cereal 9\n",
      "Apples 40\n",
      "  (Expires:(May 5, 2012))\n"
     ]
    }
   ],
   "source": [
    "class Item:\n",
    "    def __init__(self):\n",
    "        self.name = ''\n",
    "        self.quantity = 0\n",
    "\n",
    "    def set_name(self, nm):\n",
    "        self.name = nm\n",
    "\n",
    "    def set_quantity(self, qnty):\n",
    "        self.quantity = qnty\n",
    "\n",
    "    def display(self):\n",
    "        print(self.name, self.quantity)\n",
    "\n",
    "\n",
    "class Produce(Item):  # Derived from Item\n",
    "    def __init__(self):\n",
    "        Item.__init__(self)  # Call base class constructor\n",
    "        self.expiration = ''\n",
    "\n",
    "    def set_expiration(self, expir):\n",
    "        self.expiration = expir\n",
    "\n",
    "    def get_expiration(self):\n",
    "        return self.expiration\n",
    "\n",
    "item1 = Item()\n",
    "item1.set_name('Smith Cereal')\n",
    "item1.set_quantity(9)\n",
    "item1.display()\n",
    "\n",
    "item2 = Produce()\n",
    "item2.set_name('Apples')\n",
    "item2.set_quantity(40)\n",
    "item2.set_expiration('May 5, 2012')\n",
    "item2.display()\n",
    "print(f'  (Expires:({item2.get_expiration()}))')\n"
   ]
  },
  {
   "cell_type": "markdown",
   "id": "14f0f4b5-31ff-46e6-b401-fdd8dea09fb2",
   "metadata": {},
   "source": [
    "### Another Example"
   ]
  },
  {
   "cell_type": "code",
   "execution_count": 16,
   "id": "8265532f-45f4-41ee-b444-c324c21cb4e6",
   "metadata": {},
   "outputs": [
    {
     "name": "stdout",
     "output_type": "stream",
     "text": [
      "Moving at: 40\n",
      "Battery: 80\n"
     ]
    }
   ],
   "source": [
    "class Vehicle:\n",
    "    def __init__(self):\n",
    "        self.speed = 0\n",
    "\n",
    "    def set_speed(self, speed_to_set):\n",
    "        self.speed = speed_to_set\n",
    "\n",
    "    def print_speed(self):\n",
    "        print(self.speed)\n",
    "\n",
    "\n",
    "class Car(Vehicle):\n",
    "    def print_car_speed(self):\n",
    "        print('Moving at: ', end = '')\n",
    "        self.print_speed()\n",
    "\n",
    "\n",
    "class ElectricCar(Car):\n",
    "    def __init__(self):\n",
    "        self.battery_level = 0\n",
    "\n",
    "    def set_battery_level(self, level_to_set):\n",
    "        self.battery_level = level_to_set\n",
    "\n",
    "    def print_battery_level(self):\n",
    "        print(f'Battery: {self.battery_level}')\n",
    "\n",
    "\n",
    "myCar = ElectricCar()\n",
    "myCar.set_speed(40)\n",
    "myCar.set_battery_level(80)\n",
    "\n",
    "myCar.print_car_speed()\n",
    "myCar.print_battery_level()"
   ]
  },
  {
   "cell_type": "markdown",
   "id": "af13041d-e680-457b-a3fe-b2b51bb05b02",
   "metadata": {},
   "source": [
    "### Inheritance tree\n",
    "The search for an attribute continues all the way up the inheritance tree, which is the hierarchy of classes from a derived class to the final base class."
   ]
  },
  {
   "cell_type": "code",
   "execution_count": 17,
   "id": "c3f7c5e6-e05e-49c0-a0e9-eed05e673ca3",
   "metadata": {},
   "outputs": [
    {
     "name": "stdout",
     "output_type": "stream",
     "text": [
      "Vespa can go 55 mph.\n",
      "KX450F can go 80 mph.\n"
     ]
    },
    {
     "name": "stdin",
     "output_type": "stream",
     "text": [
      "Select scooter (s) or dirtbike (d):  q\n",
      "\n",
      "Select add fuel(f), go(g), wheelie(w), quit(q):  q\n"
     ]
    }
   ],
   "source": [
    "class TransportMode:\n",
    "    def __init__(self, name, speed):\n",
    "        self.name = name\n",
    "        self.speed = speed\n",
    "\n",
    "    def info(self):\n",
    "        print(f'{self.name} can go {self.speed} mph.')\n",
    "\n",
    "class MotorVehicle(TransportMode):\n",
    "    def __init__(self, name, speed, mpg):\n",
    "        TransportMode.__init__(self, name, speed)\n",
    "        self.mpg = mpg\n",
    "        self.fuel_gal = 0 \n",
    "\n",
    "    def add_fuel(self, amount):\n",
    "        self.fuel_gal += amount\n",
    "\n",
    "    def drive(self, distance):\n",
    "        required_fuel = distance / self.mpg\n",
    "        if self.fuel_gal < required_fuel:\n",
    "            print('Not enough gas.')\n",
    "        else:\n",
    "            self.fuel_gal -= required_fuel\n",
    "            print(f'{self.fuel_gal:f} gallons remaining.')\n",
    "\n",
    "class MotorCycle(MotorVehicle):\n",
    "    def __init__(self, name, speed, mpg):\n",
    "        MotorVehicle.__init__(self, name, speed, mpg)\n",
    "\n",
    "    def wheelie(self):\n",
    "        print('That is too dangerous.')\n",
    "\n",
    "\n",
    "scooter = MotorCycle('Vespa', 55, 40)\n",
    "dirtbike = MotorCycle('KX450F', 80, 25)\n",
    "\n",
    "scooter.info()\n",
    "dirtbike.info()\n",
    "choice = input('Select scooter (s) or dirtbike (d): ')\n",
    "bike = scooter if (choice == 's') else dirtbike\n",
    "\n",
    "menu = '\\nSelect add fuel(f), go(g), wheelie(w), quit(q): '\n",
    "command = input(menu)\n",
    "while command != 'q':\n",
    "    if command == 'f':\n",
    "        fuel = int(input('Enter amount: '))\n",
    "        bike.add_fuel(fuel)\n",
    "    elif command == 'g':\n",
    "        distance = int(input('Enter distance: '))\n",
    "        bike.drive(distance)\n",
    "    elif command == 'w':\n",
    "        bike.wheelie()\n",
    "    elif command == 'q':\n",
    "        break\n",
    "    else:\n",
    "        print('Invalid command.')\n",
    "\n",
    "    command = input(menu)"
   ]
  },
  {
   "cell_type": "markdown",
   "id": "09081d9c-c300-4706-87e3-600d741c08aa",
   "metadata": {},
   "source": [
    "### Overriding class methods"
   ]
  },
  {
   "cell_type": "markdown",
   "id": "b47ea262-05ad-4e1d-9033-1ef73c2ae35d",
   "metadata": {},
   "source": [
    "A derived class may define a method having **the same name as a method in the base class**. Such a member function overrides the method of the base class."
   ]
  },
  {
   "cell_type": "code",
   "execution_count": 18,
   "id": "09349042-fda0-4eba-8a78-0bc1fa648f5f",
   "metadata": {},
   "outputs": [
    {
     "name": "stdout",
     "output_type": "stream",
     "text": [
      "Smith Cereal 9\n",
      "Apples 40   (Expires: May 5, 2012)\n"
     ]
    }
   ],
   "source": [
    "class Item:\n",
    "   def __init__(self):\n",
    "       self.name = ''\n",
    "       self.quantity = 0\n",
    "\n",
    "   def set_name(self, nm):\n",
    "       self.name = nm\n",
    "\n",
    "   def set_quantity(self, qnty):\n",
    "       self.quantity = qnty\n",
    "\n",
    "   def display(self):\n",
    "       print(self.name, self.quantity)\n",
    "\n",
    "\n",
    "class Produce(Item):  # Derived from Item\n",
    "   def __init__(self):\n",
    "       Item.__init__(self)  # Call base class constructor\n",
    "       self.expiration = ''\n",
    "\n",
    "   def set_expiration(self, expir):\n",
    "       self.expiration = expir\n",
    "\n",
    "   def get_expiration(self):\n",
    "       return self.expiration\n",
    "\n",
    "   def display(self):\n",
    "       print(self.name, self.quantity, end=' ')\n",
    "       print(f'  (Expires: {self.expiration})')\n",
    "\n",
    "\n",
    "item1 = Item()\n",
    "item1.set_name('Smith Cereal')\n",
    "item1.set_quantity(9)\n",
    "item1.display()  # Will call Item's display()\n",
    "\n",
    "item2 = Produce()\n",
    "item2.set_name('Apples')\n",
    "item2.set_quantity(40)\n",
    "item2.set_expiration('May 5, 2012')\n",
    "item2.display()  # Will call Produce's display()"
   ]
  },
  {
   "cell_type": "markdown",
   "id": "1633d3c6-f84a-49c6-a963-dbbf64f0bad7",
   "metadata": {},
   "source": [
    "----------------"
   ]
  },
  {
   "cell_type": "markdown",
   "id": "17cb4a5b-f78c-4e15-8c88-029e82534eda",
   "metadata": {},
   "source": [
    "## Is-a versus has-a relationships\n",
    "\n",
    "- The 'has-a' relationship. A Mother object 'has-a' string object and 'has' child objects, but no inheritance is involved.\n"
   ]
  },
  {
   "cell_type": "code",
   "execution_count": 19,
   "id": "345bd442-5a62-4ce1-b494-71a57456bce8",
   "metadata": {},
   "outputs": [],
   "source": [
    "class Child:\n",
    "    def __init__(self):\n",
    "        self.name = ''\n",
    "        self.birthdate = ''\n",
    "        self.schoolname = ''\n",
    "    # ...\n",
    "\n",
    "class Mother:\n",
    "    def __init__(self):\n",
    "        self.name = ''\n",
    "        self.birthdate = ''\n",
    "        self.spouse_name = ''\n",
    "        self.children = []\n",
    "    # ..."
   ]
  },
  {
   "cell_type": "markdown",
   "id": "73b33c32-30ee-4bb3-9510-74fc8a8df7ba",
   "metadata": {},
   "source": [
    "- The 'is-a' relationship. A Mother object 'is a' kind of Person. The Mother class thus inherits from the Person class. Likewise for the Child class.\n"
   ]
  },
  {
   "cell_type": "code",
   "execution_count": 20,
   "id": "458aa626-ba75-47b5-aaf4-25d1d916452b",
   "metadata": {},
   "outputs": [],
   "source": [
    "class Person:\n",
    "    def __init__(self):\n",
    "        self.name = ''\n",
    "        self.birthdate = ''\n",
    "    # ...\n",
    "\n",
    "class Child(Person):\n",
    "    def __init__(self):\n",
    "        Person.__init__(self)\n",
    "        self.schoolname = ''\n",
    "    # ...\n",
    "\n",
    "class Mother(Person):\n",
    "    def __init__(self):\n",
    "        Person.__init__(self)\n",
    "        self.spousename = ''\n",
    "        self.children = []\n",
    "    # ..."
   ]
  },
  {
   "cell_type": "markdown",
   "id": "a3ebe0f8-368c-40cc-89e2-7fc9adc90f1b",
   "metadata": {},
   "source": [
    "### Multiple inheritance"
   ]
  },
  {
   "cell_type": "markdown",
   "id": "316b13fe-96fb-4d11-92e3-709db0e1876c",
   "metadata": {},
   "source": [
    "A class can inherit from more than one base class, a concept known as **multiple inheritance**. The derived class inherits all of the class attributes and methods of every base class."
   ]
  },
  {
   "cell_type": "markdown",
   "id": "12fd0877-2f2d-4083-a295-6fe69e9f9edb",
   "metadata": {},
   "source": [
    "A common use of multiple inheritance is extending the functionality of a class using **mixins**. \n",
    "\n",
    "**Mixins** are classes that provide some additional behavior, by \"mixin in\" new methods, but are not meant to be instantiated."
   ]
  },
  {
   "cell_type": "code",
   "execution_count": 8,
   "id": "ed34edea-554c-4f5f-9ab6-ccc978292c3d",
   "metadata": {},
   "outputs": [
    {
     "name": "stdout",
     "output_type": "stream",
     "text": [
      "100\n",
      "50.0\n"
     ]
    }
   ],
   "source": [
    "class DrivingMixin:\n",
    "    def drive(self, distance):\n",
    "        # ...\n",
    "        print(distance)\n",
    "        pass\n",
    "\n",
    "    def change_tire(self):\n",
    "        # ...\n",
    "        pass\n",
    "\n",
    "    def check_oil(self):\n",
    "        # ...\n",
    "        pass\n",
    "\n",
    "class FlyingMixin:\n",
    "    def fly(self, distance, altitude):\n",
    "        # ...\n",
    "        pass\n",
    "\n",
    "    def roll(self):\n",
    "        # ...\n",
    "        pass\n",
    "\n",
    "    def eject(self):\n",
    "        # ...\n",
    "        pass\n",
    "\n",
    "class TransportMode:\n",
    "    def __init__(self, name, speed):\n",
    "        self.name = name\n",
    "        self.speed = speed\n",
    "\n",
    "    def display(self):\n",
    "        print(f'{self.name} can go {self.speed} mpg')\n",
    "\n",
    "class SemiTruck(TransportMode, DrivingMixin):\n",
    "    def __init__(self, name, speed, cargo):\n",
    "        TransportMode.__init__(self, name, speed)\n",
    "        self.cargo = cargo\n",
    "\n",
    "    def go(self, distance):\n",
    "        self.drive(distance)\n",
    "        # ...\n",
    "\n",
    "class FlyingCar(TransportMode, FlyingMixin, DrivingMixin):\n",
    "    def __init__(self, name, speed, max_altitude):\n",
    "        TransportMode.__init__(self, name, speed)\n",
    "        self.max_altitude = max_altitude\n",
    "\n",
    "    def go(self, distance):\n",
    "        self.fly(distance / 2, self.max_altitude)\n",
    "        # ...\n",
    "        self.drive(distance / 2)\n",
    "\n",
    "s = SemiTruck('MacTruck', 85, 'Frozen beans')\n",
    "f = FlyingCar('Jetson35K', 325, 15000)\n",
    "\n",
    "s.go(100)\n",
    "f.go(100)"
   ]
  },
  {
   "cell_type": "code",
   "execution_count": null,
   "id": "e8061243-9477-4ed6-a0d8-a0035b70b014",
   "metadata": {},
   "outputs": [],
   "source": []
  }
 ],
 "metadata": {
  "kernelspec": {
   "display_name": "Python 3 (ipykernel)",
   "language": "python",
   "name": "python3"
  },
  "language_info": {
   "codemirror_mode": {
    "name": "ipython",
    "version": 3
   },
   "file_extension": ".py",
   "mimetype": "text/x-python",
   "name": "python",
   "nbconvert_exporter": "python",
   "pygments_lexer": "ipython3",
   "version": "3.12.1"
  }
 },
 "nbformat": 4,
 "nbformat_minor": 5
}
